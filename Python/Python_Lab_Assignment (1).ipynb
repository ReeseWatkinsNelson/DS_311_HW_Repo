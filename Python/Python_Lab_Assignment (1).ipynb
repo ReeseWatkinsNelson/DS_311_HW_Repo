{
 "cells": [
  {
   "cell_type": "markdown",
   "metadata": {},
   "source": [
    "# PyCity Schools Analysis\n",
    "\n",
    "* As a whole, schools with higher budgets, did not yield better test results. By contrast, schools with higher spending per student actually (\\\\$645 - 675) underperformed compared to schools with smaller budgets (\\\\$585 per student).\n",
    "\n",
    "* As a whole, smaller and medium sized schools dramatically out-performed large sized schools on passing math performances (89-91% passing vs 67%).\n",
    "\n",
    "* As a whole, charter schools out-performed the public district schools across all metrics. However, more analysis will be required to glean if the effect is due to school practices or the fact that charter schools tend to serve smaller student populations per school. \n",
    "---"
   ]
  },
  {
   "cell_type": "markdown",
   "metadata": {},
   "source": [
    "**Note:**\n",
    "Instructions have been included for each segment. You do not have to follow them exactly, but they are included to help you think through the steps."
   ]
  },
  {
   "cell_type": "code",
   "execution_count": 430,
   "metadata": {
    "ExecuteTime": {
     "end_time": "2022-08-06T06:08:31.925112Z",
     "start_time": "2022-08-06T06:08:29.337754Z"
    }
   },
   "outputs": [],
   "source": [
    "# Dependencies and Setup\n",
    "import pandas as pd\n",
    "import numpy as np\n",
    "import sqlite3\n",
    "\n",
    "# loading data from python.db database\n",
    "con = sqlite3.connect('data/python.db')\n",
    "\n",
    "# Read 'school' and 'student' tables into pandas dataframe\n",
    "school_data = pd.read_sql_query(\"SELECT * FROM school\", con)\n",
    "student_data = pd.read_sql_query(\"SELECT * FROM student\", con)\n"
   ]
  },
  {
   "cell_type": "code",
   "execution_count": 431,
   "metadata": {},
   "outputs": [
    {
     "data": {
      "text/html": [
       "<div>\n",
       "<style scoped>\n",
       "    .dataframe tbody tr th:only-of-type {\n",
       "        vertical-align: middle;\n",
       "    }\n",
       "\n",
       "    .dataframe tbody tr th {\n",
       "        vertical-align: top;\n",
       "    }\n",
       "\n",
       "    .dataframe thead th {\n",
       "        text-align: right;\n",
       "    }\n",
       "</style>\n",
       "<table border=\"1\" class=\"dataframe\">\n",
       "  <thead>\n",
       "    <tr style=\"text-align: right;\">\n",
       "      <th></th>\n",
       "      <th>id_x</th>\n",
       "      <th>Student ID</th>\n",
       "      <th>student_name</th>\n",
       "      <th>gender</th>\n",
       "      <th>grade</th>\n",
       "      <th>school_name</th>\n",
       "      <th>reading_score</th>\n",
       "      <th>math_score</th>\n",
       "      <th>id_y</th>\n",
       "      <th>School ID</th>\n",
       "      <th>type</th>\n",
       "      <th>size</th>\n",
       "      <th>budget</th>\n",
       "    </tr>\n",
       "  </thead>\n",
       "  <tbody>\n",
       "    <tr>\n",
       "      <th>0</th>\n",
       "      <td>0</td>\n",
       "      <td>0</td>\n",
       "      <td>Paul Bradley</td>\n",
       "      <td>M</td>\n",
       "      <td>9th</td>\n",
       "      <td>Huang High School</td>\n",
       "      <td>66</td>\n",
       "      <td>79</td>\n",
       "      <td>0</td>\n",
       "      <td>0</td>\n",
       "      <td>District</td>\n",
       "      <td>2917</td>\n",
       "      <td>1910635</td>\n",
       "    </tr>\n",
       "    <tr>\n",
       "      <th>1</th>\n",
       "      <td>1</td>\n",
       "      <td>1</td>\n",
       "      <td>Victor Smith</td>\n",
       "      <td>M</td>\n",
       "      <td>12th</td>\n",
       "      <td>Huang High School</td>\n",
       "      <td>94</td>\n",
       "      <td>61</td>\n",
       "      <td>0</td>\n",
       "      <td>0</td>\n",
       "      <td>District</td>\n",
       "      <td>2917</td>\n",
       "      <td>1910635</td>\n",
       "    </tr>\n",
       "    <tr>\n",
       "      <th>2</th>\n",
       "      <td>2</td>\n",
       "      <td>2</td>\n",
       "      <td>Kevin Rodriguez</td>\n",
       "      <td>M</td>\n",
       "      <td>12th</td>\n",
       "      <td>Huang High School</td>\n",
       "      <td>90</td>\n",
       "      <td>60</td>\n",
       "      <td>0</td>\n",
       "      <td>0</td>\n",
       "      <td>District</td>\n",
       "      <td>2917</td>\n",
       "      <td>1910635</td>\n",
       "    </tr>\n",
       "    <tr>\n",
       "      <th>3</th>\n",
       "      <td>3</td>\n",
       "      <td>3</td>\n",
       "      <td>Dr. Richard Scott</td>\n",
       "      <td>M</td>\n",
       "      <td>12th</td>\n",
       "      <td>Huang High School</td>\n",
       "      <td>67</td>\n",
       "      <td>58</td>\n",
       "      <td>0</td>\n",
       "      <td>0</td>\n",
       "      <td>District</td>\n",
       "      <td>2917</td>\n",
       "      <td>1910635</td>\n",
       "    </tr>\n",
       "    <tr>\n",
       "      <th>4</th>\n",
       "      <td>4</td>\n",
       "      <td>4</td>\n",
       "      <td>Bonnie Ray</td>\n",
       "      <td>F</td>\n",
       "      <td>9th</td>\n",
       "      <td>Huang High School</td>\n",
       "      <td>97</td>\n",
       "      <td>84</td>\n",
       "      <td>0</td>\n",
       "      <td>0</td>\n",
       "      <td>District</td>\n",
       "      <td>2917</td>\n",
       "      <td>1910635</td>\n",
       "    </tr>\n",
       "  </tbody>\n",
       "</table>\n",
       "</div>"
      ],
      "text/plain": [
       "   id_x  Student ID       student_name gender grade        school_name  \\\n",
       "0     0           0       Paul Bradley      M   9th  Huang High School   \n",
       "1     1           1       Victor Smith      M  12th  Huang High School   \n",
       "2     2           2    Kevin Rodriguez      M  12th  Huang High School   \n",
       "3     3           3  Dr. Richard Scott      M  12th  Huang High School   \n",
       "4     4           4         Bonnie Ray      F   9th  Huang High School   \n",
       "\n",
       "   reading_score  math_score  id_y  School ID      type  size   budget  \n",
       "0             66          79     0          0  District  2917  1910635  \n",
       "1             94          61     0          0  District  2917  1910635  \n",
       "2             90          60     0          0  District  2917  1910635  \n",
       "3             67          58     0          0  District  2917  1910635  \n",
       "4             97          84     0          0  District  2917  1910635  "
      ]
     },
     "execution_count": 431,
     "metadata": {},
     "output_type": "execute_result"
    }
   ],
   "source": [
    "# Combine the data into a single dataset\n",
    "school_data_complete = pd.merge(student_data, school_data, how=\"left\", on=[\"school_name\", \"school_name\"])\n",
    "school_data_complete.head()"
   ]
  },
  {
   "cell_type": "markdown",
   "metadata": {},
   "source": [
    "## District Summary\n",
    "\n",
    "* Calculate the total number of schools\n",
    "\n",
    "* Calculate the total number of students\n",
    "\n",
    "* Calculate the total budget\n",
    "\n",
    "* Calculate the average math score \n",
    "\n",
    "* Calculate the average reading score\n",
    "\n",
    "* Calculate the overall passing rate (overall average score), i.e. (avg. math score + avg. reading score)/2\n",
    "\n",
    "* Calculate the percentage of students with a passing math score (70 or greater)\n",
    "\n",
    "* Calculate the percentage of students with a passing reading score (70 or greater)\n",
    "\n",
    "* Create a dataframe to hold the above results\n",
    "\n",
    "* Optional: give the displayed data cleaner formatting"
   ]
  },
  {
   "cell_type": "code",
   "execution_count": 433,
   "metadata": {},
   "outputs": [],
   "source": [
    "# Create a District Summary\n"
   ]
  },
  {
   "cell_type": "code",
   "execution_count": 434,
   "metadata": {},
   "outputs": [
    {
     "name": "stdout",
     "output_type": "stream",
     "text": [
      "Total Schools: 15\n"
     ]
    }
   ],
   "source": [
    "# Total number of schools\n",
    "\n",
    "query = \"SELECT COUNT(DISTINCT(school_name)) as total_schools FROM school\"\n",
    "total_schools = con.execute(query).fetchone()[0]\n",
    "print(f'Total Schools: {total_schools}')\n",
    "\n"
   ]
  },
  {
   "cell_type": "code",
   "execution_count": 435,
   "metadata": {},
   "outputs": [
    {
     "name": "stdout",
     "output_type": "stream",
     "text": [
      "Total Students: 39170\n"
     ]
    }
   ],
   "source": [
    "# Total number of students\n",
    "\n",
    "query = \"SELECT SUM(DISTINCT(size)) as total_students FROM school\"\n",
    "total_students = con.execute(query).fetchone()[0]\n",
    "print(f'Total Students: {total_students}')\n",
    "\n",
    "\n"
   ]
  },
  {
   "cell_type": "code",
   "execution_count": 436,
   "metadata": {},
   "outputs": [
    {
     "name": "stdout",
     "output_type": "stream",
     "text": [
      "Total Budget: 24649428\n"
     ]
    }
   ],
   "source": [
    "# Total budget\n",
    "\n",
    "query = \"SELECT SUM(DISTINCT(budget)) as total_budget FROM school\"\n",
    "total_budget = con.execute(query).fetchone()[0]\n",
    "print(f'Total Budget: {total_budget}')\n",
    "\n"
   ]
  },
  {
   "cell_type": "code",
   "execution_count": 437,
   "metadata": {},
   "outputs": [
    {
     "name": "stdout",
     "output_type": "stream",
     "text": [
      "Average Math Score: 78.99\n"
     ]
    }
   ],
   "source": [
    "# Average math score\n",
    "\n",
    "query = \"SELECT AVG(math_score) as avg_math_score FROM student\"\n",
    "avg_math_score = con.execute(query).fetchone()[0]\n",
    "print(f'Average Math Score: {avg_math_score:.2f}')\n",
    "\n"
   ]
  },
  {
   "cell_type": "code",
   "execution_count": 438,
   "metadata": {},
   "outputs": [
    {
     "name": "stdout",
     "output_type": "stream",
     "text": [
      "Average Reading Score: 81.88\n"
     ]
    }
   ],
   "source": [
    "# Average reading score\n",
    "query = \"SELECT AVG(reading_score) as avg_reading_score FROM student\"\n",
    "avg_reading_score = con.execute(query).fetchone()[0]\n",
    "print(f'Average Reading Score: {avg_reading_score:.2f}')\n",
    "\n"
   ]
  },
  {
   "cell_type": "code",
   "execution_count": 439,
   "metadata": {},
   "outputs": [
    {
     "name": "stdout",
     "output_type": "stream",
     "text": [
      "Average Score: 80.43\n"
     ]
    }
   ],
   "source": [
    "# Overall average score\n",
    "\n",
    "query = \"SELECT ((AVG(reading_score) + AVG(math_score))/2) as avg_score FROM student\"\n",
    "avg_score = con.execute(query).fetchone()[0]\n",
    "print(f'Average Score: {avg_score:.2f}')\n",
    "\n"
   ]
  },
  {
   "cell_type": "code",
   "execution_count": 440,
   "metadata": {},
   "outputs": [
    {
     "name": "stdout",
     "output_type": "stream",
     "text": [
      "Average Passing Rate: 80.39%\n"
     ]
    }
   ],
   "source": [
    "# Percentage of passing math (70 or greater)\n",
    "\n",
    "query = \"\"\"\n",
    "SELECT \n",
    "((((COUNT(CASE WHEN math_score >= 70 THEN 1 END)*1.0)/(SELECT SUM(DISTINCT(size)) FROM school)*100) +\n",
    "((COUNT(CASE WHEN reading_score >= 70 THEN 1 END)*1.0)/(SELECT SUM(DISTINCT(size)) FROM school)*100) )/2) AS avg_passing_rate\n",
    "FROM student\n",
    "\n",
    "\"\"\"\n",
    "cur = con.cursor()\n",
    "cur.execute(query)\n",
    "result = cur.fetchone()\n",
    "if result and result[0] is not None:\n",
    "    avg_passing_rate = result[0]\n",
    "    print(f\"Average Passing Rate: {avg_passing_rate:.2f}%\")\n",
    "\n",
    "# Using both the passing rate of math and english and averaging them to use in 1.3.1.1"
   ]
  },
  {
   "cell_type": "markdown",
   "metadata": {},
   "source": [
    "## School Summary"
   ]
  },
  {
   "cell_type": "markdown",
   "metadata": {},
   "source": [
    "* Create an overview table that summarizes key metrics about each school, including:\n",
    "  * School Name\n",
    "  * School Type\n",
    "  * Total Students\n",
    "  * Total School Budget\n",
    "  * Per Student Budget\n",
    "  * Average Math Score\n",
    "  * Average Reading Score\n",
    "  * % Passing Math\n",
    "  * % Passing Reading\n",
    "  * Overall Passing Rate (Average of the above two)\n",
    "  \n",
    "* Create a dataframe to hold the above results"
   ]
  },
  {
   "cell_type": "markdown",
   "metadata": {},
   "source": [
    "### Top Performing Schools (By Passing Rate)"
   ]
  },
  {
   "cell_type": "markdown",
   "metadata": {},
   "source": [
    "* Sort and display the top five schools in overall passing rate"
   ]
  },
  {
   "cell_type": "code",
   "execution_count": 445,
   "metadata": {},
   "outputs": [
    {
     "name": "stdout",
     "output_type": "stream",
     "text": [
      "School: Cabrera High School, Passing Rate: 95.59%\n",
      "School: Thomas High School, Passing Rate: 95.29%\n",
      "School: Pena High School, Passing Rate: 95.27%\n",
      "School: Griffin High School, Passing Rate: 95.27%\n",
      "School: Wilson High School, Passing Rate: 95.20%\n"
     ]
    }
   ],
   "source": [
    "#  Sort and display the top five schools in overall passing rate\n",
    "\n",
    "query = \"\"\"\n",
    "WITH top_5_schools AS \n",
    "(SELECT school_name, \n",
    "    ((((COUNT(CASE WHEN math_score >= 70 THEN 1 END) * 1.0) / (SELECT SUM(size) FROM school WHERE school_name = student.school_name) * 100) +\n",
    "    ((COUNT(CASE WHEN reading_score >= 70 THEN 1 END) * 1.0) / (SELECT SUM(size) FROM school WHERE school_name = student.school_name) * 100)) / 2) \n",
    "    AS passing_rate\n",
    "    FROM student\n",
    "    GROUP BY school_name\n",
    "    ORDER BY passing_rate DESC\n",
    "    LIMIT 5)\n",
    "SELECT \n",
    "school_name AS school_name, \n",
    "((((COUNT(CASE WHEN math_score >= 70 THEN 1 END)*1.0)/ (SELECT SUM(size) FROM school WHERE school_name = student.school_name) * 100) +\n",
    "((COUNT(CASE WHEN reading_score >= 70 THEN 1 END)*1.0)/ (SELECT SUM(size) FROM school WHERE school_name = student.school_name) * 100) )/2) as passing_rate\n",
    "FROM student\n",
    "GROUP BY school_name \n",
    "ORDER BY passing_rate DESC\n",
    "LIMIT 5\n",
    "\"\"\"\n",
    "passing_rates = con.execute(query).fetchall()\n",
    "for school in passing_rates:\n",
    "    print(f'School: {school[0]}, Passing Rate: {school[1]:.2f}%')\n"
   ]
  },
  {
   "cell_type": "code",
   "execution_count": 446,
   "metadata": {},
   "outputs": [
    {
     "name": "stdout",
     "output_type": "stream",
     "text": [
      "Per Student Budget: 615\n"
     ]
    }
   ],
   "source": [
    "# Calculate per student budget\n",
    "query = \"\"\"\n",
    "WITH queryA AS\n",
    "(SELECT SUM(DISTINCT(school.budget)) as total_budget\n",
    "FROM school\n",
    "WHERE school.school_name IN \n",
    "    (SELECT school_name \n",
    "    FROM student\n",
    "    GROUP BY school_name \n",
    "    ORDER BY ((COUNT(CASE WHEN math_score >= 70 THEN 1 END)*1.0)/(SELECT SUM(DISTINCT(size)) as total_students FROM school)* 100)\n",
    "    LIMIT 5))\n",
    "SELECT ((queryA.total_budget)/(SUM(DISTINCT(school.size)))) as per_student_budget\n",
    "FROM school, queryA\n",
    "WHERE school.school_name IN \n",
    "(SELECT school_name \n",
    "    FROM student\n",
    "    GROUP BY school_name \n",
    "    ORDER BY ((COUNT(CASE WHEN math_score >= 70 THEN 1 END)*1.0)/(SELECT SUM(DISTINCT(size)) as total_students FROM school)* 100)\n",
    "    LIMIT 5)\n",
    "\n",
    "\"\"\"\n",
    "cur = con.cursor()\n",
    "cur.execute(query)\n",
    "result = cur.fetchone()\n",
    "if result and result[0] is not None:\n",
    "    print(f\"Per Student Budget: {result[0]}\")"
   ]
  },
  {
   "cell_type": "code",
   "execution_count": 447,
   "metadata": {},
   "outputs": [
    {
     "name": "stdout",
     "output_type": "stream",
     "text": [
      "Average Math Score: 78.99\n",
      "Average Reading Score: 81.88\n"
     ]
    }
   ],
   "source": [
    "# Cacluate the avg math and reading score\n",
    "query = \"\"\"\n",
    "WITH queryA AS\n",
    "(SELECT SUM(DISTINCT(school.budget)) as total_budget\n",
    "FROM school\n",
    "WHERE school.school_name IN \n",
    "    (SELECT school_name \n",
    "    FROM student\n",
    "    GROUP BY school_name \n",
    "    ORDER BY ((COUNT(CASE WHEN math_score >= 70 THEN 1 END)*1.0)/(SELECT SUM(DISTINCT(size)) as total_students FROM school)* 100)\n",
    "    LIMIT 5))\n",
    "SELECT AVG(math_score) as avg_math_score , AVG(reading_score) as avg_reading_score \n",
    "FROM student\n",
    "\"\"\"\n",
    "cur = con.cursor()\n",
    "cur.execute(query)\n",
    "result = cur.fetchone()\n",
    "if result and result[0] is not None:\n",
    "    avg_math_score, avg_reading_score = result\n",
    "    print(f\"Average Math Score: {avg_math_score:.2f}\")\n",
    "    print(f\"Average Reading Score: {avg_reading_score:.2f}\")"
   ]
  },
  {
   "cell_type": "code",
   "execution_count": 448,
   "metadata": {
    "scrolled": true
   },
   "outputs": [
    {
     "name": "stdout",
     "output_type": "stream",
     "text": [
      "Total Budget: 3851175\n"
     ]
    }
   ],
   "source": [
    "# Calculate total school budget\n",
    "query = \"\"\"\n",
    "SELECT SUM(DISTINCT(school.budget)) as total_budget\n",
    "FROM school\n",
    "WHERE school.school_name IN \n",
    "    (SELECT school_name \n",
    "    FROM student\n",
    "    GROUP BY school_name \n",
    "    ORDER BY ((COUNT(CASE WHEN math_score >= 70 THEN 1 END)*1.0)/(SELECT SUM(DISTINCT(size)) as total_students FROM school)* 100)\n",
    "    LIMIT 5)\n",
    "\"\"\"\n",
    "cur = con.cursor()\n",
    "cur.execute(query)\n",
    "result = cur.fetchone()\n",
    "if result and result[0] is not None:\n",
    "    print(f\"Total Budget: {result[0]}\")\n"
   ]
  },
  {
   "cell_type": "markdown",
   "metadata": {},
   "source": [
    "#### Find the passing rate for math and reading (above 70 points)"
   ]
  },
  {
   "cell_type": "code",
   "execution_count": 683,
   "metadata": {},
   "outputs": [
    {
     "name": "stdout",
     "output_type": "stream",
     "text": [
      "Math Passing Rate: 74.98%\n"
     ]
    }
   ],
   "source": [
    "# Find the total counts of math result\n",
    "#(SELECT SUM(size) FROM school WHERE school_name = student.school_name)\n",
    "\n",
    "# Find the counts for math result in each school that pass 70 or higher\n",
    "#COUNT(CASE WHEN math_score >= 70 THEN 1 END) * 1.0) / (SELECT SUM(size) FROM school WHERE school_name = student.school_name) * 100)\n",
    "\n",
    "\n",
    "# Calculate the math passing rate\n",
    "query = \"\"\"\n",
    "SELECT ((COUNT(CASE WHEN math_score >= 70 THEN 1 END) * 1.0) / (SELECT SUM(DISTINCT(size)) FROM school)) * 100 AS math_passing_rate\n",
    "FROM student\n",
    "JOIN school ON school.school_name = student.school_name\n",
    "\"\"\"\n",
    "math_passing_rate = con.execute(query).fetchall()\n",
    "for row in math_passing_rate:\n",
    "    print(f'Math Passing Rate: {row[0]:.2f}%')\n"
   ]
  },
  {
   "cell_type": "code",
   "execution_count": 699,
   "metadata": {},
   "outputs": [
    {
     "name": "stdout",
     "output_type": "stream",
     "text": [
      "Reading Passing Rate: 85.81%\n"
     ]
    }
   ],
   "source": [
    "# Find the total counts of read result\n",
    "#(SELECT SUM(size) FROM school WHERE school_name = student.school_name)\n",
    "\n",
    "# Find the counts for read result in each school that pass 70 or higher\n",
    "#COUNT(CASE WHEN reading_score >= 70 THEN 1 END) * 1.0) / (SELECT SUM(size) FROM school WHERE school_name = student.school_name) * 100)\n",
    "\n",
    "# Calculate the read passing rate\n",
    "query = \"\"\"\n",
    "SELECT ((COUNT(CASE WHEN reading_score >= 70 THEN 1 END) * 1.0) / (SELECT SUM(DISTINCT(size)) FROM school)) * 100 AS reading_passing_rate\n",
    "FROM student\n",
    "JOIN school ON school.school_name = student.school_name\n",
    "\"\"\"\n",
    "reading_passing_rate = con.execute(query).fetchall()\n",
    "for row in reading_passing_rate:\n",
    "    print(f'Reading Passing Rate: {row[0]:.2f}%')\n"
   ]
  },
  {
   "cell_type": "code",
   "execution_count": 697,
   "metadata": {},
   "outputs": [
    {
     "name": "stdout",
     "output_type": "stream",
     "text": [
      "Passing Rate: 80.39%\n"
     ]
    }
   ],
   "source": [
    "# Calculate the overall passing rate (average of the math and reading passing rate)\n",
    "query = \"\"\"\n",
    "SELECT (((((SUM(CASE WHEN student.math_score >= 70 THEN 1 ELSE 0 END) * 1.0) / (SUM(DISTINCT(school.size) ))) * 100) +\n",
    "    ((SUM(CASE WHEN student.reading_score >= 70 THEN 1 ELSE 0 END) * 1.0) / (SUM(DISTINCT(school.size) ))) * 100) / 2)\n",
    "    AS avg_passing_rate\n",
    "FROM student \n",
    "JOIN school on school.school_name = student.school_name\n",
    "\"\"\"\n",
    "avg_passing_rate = con.execute(query).fetchall()\n",
    "for school in avg_passing_rate:\n",
    "    print(f'Passing Rate: {school[0]:.2f}%')\n",
    "\n"
   ]
  },
  {
   "cell_type": "code",
   "execution_count": null,
   "metadata": {},
   "outputs": [],
   "source": []
  },
  {
   "cell_type": "code",
   "execution_count": null,
   "metadata": {},
   "outputs": [],
   "source": []
  },
  {
   "cell_type": "code",
   "execution_count": null,
   "metadata": {},
   "outputs": [],
   "source": []
  },
  {
   "cell_type": "markdown",
   "metadata": {},
   "source": [
    "### Bottom Performing Schools (By Passing Rate)"
   ]
  },
  {
   "cell_type": "markdown",
   "metadata": {},
   "source": [
    "* Sort and display the five worst-performing schools"
   ]
  },
  {
   "cell_type": "code",
   "execution_count": 455,
   "metadata": {},
   "outputs": [
    {
     "name": "stdout",
     "output_type": "stream",
     "text": [
      "School: Rodriguez High School, Passing Rate: 73.29%\n",
      "School: Figueroa High School, Passing Rate: 73.36%\n",
      "School: Huang High School, Passing Rate: 73.50%\n",
      "School: Johnson High School, Passing Rate: 73.64%\n",
      "School: Ford High School, Passing Rate: 73.80%\n"
     ]
    }
   ],
   "source": [
    "#  Sort and display the worst five schools in overall passing rate\n",
    "\n",
    "query = \"\"\"\n",
    "WITH bottom_5_schools AS \n",
    "(SELECT school_name, \n",
    "    ((((COUNT(CASE WHEN math_score >= 70 THEN 1 END) * 1.0) / (SELECT SUM(size) FROM school WHERE school_name = student.school_name) * 100) +\n",
    "    ((COUNT(CASE WHEN reading_score >= 70 THEN 1 END) * 1.0) / (SELECT SUM(size) FROM school WHERE school_name = student.school_name) * 100)) / 2) \n",
    "    AS avg_passing_rate\n",
    "    FROM student\n",
    "    GROUP BY school_name\n",
    "    ORDER BY avg_passing_rate ASC\n",
    "    LIMIT 5)\n",
    "SELECT \n",
    "    school_name, \n",
    "    avg_passing_rate\n",
    "FROM bottom_5_schools\n",
    "ORDER BY avg_passing_rate ASC\n",
    "\"\"\"\n",
    "avg_passing_rate = con.execute(query).fetchall()\n",
    "for school in avg_passing_rate:\n",
    "    print(f'School: {school[0]}, Passing Rate: {school[1]:.2f}%')\n"
   ]
  },
  {
   "cell_type": "markdown",
   "metadata": {
    "collapsed": true,
    "jupyter": {
     "outputs_hidden": true
    }
   },
   "source": [
    "## Math Scores by Grade"
   ]
  },
  {
   "cell_type": "markdown",
   "metadata": {},
   "source": [
    "* Create a table that lists the average Reading Score for students of each grade level (9th, 10th, 11th, 12th) at each school.\n",
    "\n",
    "  * Create a pandas series for each grade. Hint: use a conditional statement.\n",
    "  \n",
    "  * Group each series by school\n",
    "  \n",
    "  * Combine the series into a dataframe\n",
    "  \n",
    "  * Optional: give the displayed data cleaner formatting"
   ]
  },
  {
   "cell_type": "code",
   "execution_count": 458,
   "metadata": {},
   "outputs": [
    {
     "name": "stdout",
     "output_type": "stream",
     "text": [
      "School: Bailey High School, Grade: 10th, Average Math Score: 77.00\n",
      "School: Bailey High School, Grade: 11th, Average Math Score: 77.52\n",
      "School: Bailey High School, Grade: 12th, Average Math Score: 76.49\n",
      "School: Bailey High School, Grade: 9th, Average Math Score: 77.08\n",
      "School: Cabrera High School, Grade: 10th, Average Math Score: 83.15\n",
      "School: Cabrera High School, Grade: 11th, Average Math Score: 82.77\n",
      "School: Cabrera High School, Grade: 12th, Average Math Score: 83.28\n",
      "School: Cabrera High School, Grade: 9th, Average Math Score: 83.09\n",
      "School: Figueroa High School, Grade: 10th, Average Math Score: 76.54\n",
      "School: Figueroa High School, Grade: 11th, Average Math Score: 76.88\n",
      "School: Figueroa High School, Grade: 12th, Average Math Score: 77.15\n",
      "School: Figueroa High School, Grade: 9th, Average Math Score: 76.40\n",
      "School: Ford High School, Grade: 10th, Average Math Score: 77.67\n",
      "School: Ford High School, Grade: 11th, Average Math Score: 76.92\n",
      "School: Ford High School, Grade: 12th, Average Math Score: 76.18\n",
      "School: Ford High School, Grade: 9th, Average Math Score: 77.36\n",
      "School: Griffin High School, Grade: 10th, Average Math Score: 84.23\n",
      "School: Griffin High School, Grade: 11th, Average Math Score: 83.84\n",
      "School: Griffin High School, Grade: 12th, Average Math Score: 83.36\n",
      "School: Griffin High School, Grade: 9th, Average Math Score: 82.04\n",
      "School: Hernandez High School, Grade: 10th, Average Math Score: 77.34\n",
      "School: Hernandez High School, Grade: 11th, Average Math Score: 77.14\n",
      "School: Hernandez High School, Grade: 12th, Average Math Score: 77.19\n",
      "School: Hernandez High School, Grade: 9th, Average Math Score: 77.44\n",
      "School: Holden High School, Grade: 10th, Average Math Score: 83.43\n",
      "School: Holden High School, Grade: 11th, Average Math Score: 85.00\n",
      "School: Holden High School, Grade: 12th, Average Math Score: 82.86\n",
      "School: Holden High School, Grade: 9th, Average Math Score: 83.79\n",
      "School: Huang High School, Grade: 10th, Average Math Score: 75.91\n",
      "School: Huang High School, Grade: 11th, Average Math Score: 76.45\n",
      "School: Huang High School, Grade: 12th, Average Math Score: 77.23\n",
      "School: Huang High School, Grade: 9th, Average Math Score: 77.03\n",
      "School: Johnson High School, Grade: 10th, Average Math Score: 76.69\n",
      "School: Johnson High School, Grade: 11th, Average Math Score: 77.49\n",
      "School: Johnson High School, Grade: 12th, Average Math Score: 76.86\n",
      "School: Johnson High School, Grade: 9th, Average Math Score: 77.19\n",
      "School: Pena High School, Grade: 10th, Average Math Score: 83.37\n",
      "School: Pena High School, Grade: 11th, Average Math Score: 84.33\n",
      "School: Pena High School, Grade: 12th, Average Math Score: 84.12\n",
      "School: Pena High School, Grade: 9th, Average Math Score: 83.63\n",
      "School: Rodriguez High School, Grade: 10th, Average Math Score: 76.61\n",
      "School: Rodriguez High School, Grade: 11th, Average Math Score: 76.40\n",
      "School: Rodriguez High School, Grade: 12th, Average Math Score: 77.69\n",
      "School: Rodriguez High School, Grade: 9th, Average Math Score: 76.86\n",
      "School: Shelton High School, Grade: 10th, Average Math Score: 82.92\n",
      "School: Shelton High School, Grade: 11th, Average Math Score: 83.38\n",
      "School: Shelton High School, Grade: 12th, Average Math Score: 83.78\n",
      "School: Shelton High School, Grade: 9th, Average Math Score: 83.42\n",
      "School: Thomas High School, Grade: 10th, Average Math Score: 83.09\n",
      "School: Thomas High School, Grade: 11th, Average Math Score: 83.50\n",
      "School: Thomas High School, Grade: 12th, Average Math Score: 83.50\n",
      "School: Thomas High School, Grade: 9th, Average Math Score: 83.59\n",
      "School: Wilson High School, Grade: 10th, Average Math Score: 83.72\n",
      "School: Wilson High School, Grade: 11th, Average Math Score: 83.20\n",
      "School: Wilson High School, Grade: 12th, Average Math Score: 83.04\n",
      "School: Wilson High School, Grade: 9th, Average Math Score: 83.09\n",
      "School: Wright High School, Grade: 10th, Average Math Score: 84.01\n",
      "School: Wright High School, Grade: 11th, Average Math Score: 83.84\n",
      "School: Wright High School, Grade: 12th, Average Math Score: 83.64\n",
      "School: Wright High School, Grade: 9th, Average Math Score: 83.26\n"
     ]
    }
   ],
   "source": [
    "# Create table that lists the average math score for each school of each grade level.\n",
    "query = \"\"\"\n",
    "SELECT grade, school.school_name, AVG(math_score) as avg_math_score \n",
    "FROM student\n",
    "JOIN school ON school.school_name = student.school_name\n",
    "GROUP BY grade, school.school_name\n",
    "ORDER BY school.school_name , grade\n",
    "\"\"\"\n",
    "avg_math_scores = con.execute(query).fetchall()\n",
    "for row in avg_math_scores:\n",
    "    print(f'School: {row[1]}, Grade: {row[0]}, Average Math Score: {row[2]:.2f}')\n",
    "\n"
   ]
  },
  {
   "cell_type": "code",
   "execution_count": 459,
   "metadata": {},
   "outputs": [
    {
     "name": "stdout",
     "output_type": "stream",
     "text": [
      "School: Bailey High School, Grade: 9th, Average Math Score: 77.08\n",
      "School: Cabrera High School, Grade: 9th, Average Math Score: 83.09\n",
      "School: Figueroa High School, Grade: 9th, Average Math Score: 76.40\n",
      "School: Ford High School, Grade: 9th, Average Math Score: 77.36\n",
      "School: Griffin High School, Grade: 9th, Average Math Score: 82.04\n",
      "School: Hernandez High School, Grade: 9th, Average Math Score: 77.44\n",
      "School: Holden High School, Grade: 9th, Average Math Score: 83.79\n",
      "School: Huang High School, Grade: 9th, Average Math Score: 77.03\n",
      "School: Johnson High School, Grade: 9th, Average Math Score: 77.19\n",
      "School: Pena High School, Grade: 9th, Average Math Score: 83.63\n",
      "School: Rodriguez High School, Grade: 9th, Average Math Score: 76.86\n",
      "School: Shelton High School, Grade: 9th, Average Math Score: 83.42\n",
      "School: Thomas High School, Grade: 9th, Average Math Score: 83.59\n",
      "School: Wilson High School, Grade: 9th, Average Math Score: 83.09\n",
      "School: Wright High School, Grade: 9th, Average Math Score: 83.26\n"
     ]
    }
   ],
   "source": [
    "# Calculate the average math score for 9th grade in each school\n",
    "query = \"\"\"\n",
    "SELECT grade, school.school_name, AVG(math_score) as avg_math_score \n",
    "FROM student\n",
    "JOIN school ON school.school_name = student.school_name\n",
    "WHERE grade = '9th'\n",
    "GROUP BY grade, school.school_name\n",
    "ORDER BY school.school_name , grade\n",
    "\"\"\"\n",
    "avg_math_scores = con.execute(query).fetchall()\n",
    "for row in avg_math_scores:\n",
    "    print(f'School: {row[1]}, Grade: {row[0]}, Average Math Score: {row[2]:.2f}')\n"
   ]
  },
  {
   "cell_type": "code",
   "execution_count": 460,
   "metadata": {},
   "outputs": [
    {
     "name": "stdout",
     "output_type": "stream",
     "text": [
      "School: Bailey High School, Grade: 10th, Average Math Score: 77.00\n",
      "School: Cabrera High School, Grade: 10th, Average Math Score: 83.15\n",
      "School: Figueroa High School, Grade: 10th, Average Math Score: 76.54\n",
      "School: Ford High School, Grade: 10th, Average Math Score: 77.67\n",
      "School: Griffin High School, Grade: 10th, Average Math Score: 84.23\n",
      "School: Hernandez High School, Grade: 10th, Average Math Score: 77.34\n",
      "School: Holden High School, Grade: 10th, Average Math Score: 83.43\n",
      "School: Huang High School, Grade: 10th, Average Math Score: 75.91\n",
      "School: Johnson High School, Grade: 10th, Average Math Score: 76.69\n",
      "School: Pena High School, Grade: 10th, Average Math Score: 83.37\n",
      "School: Rodriguez High School, Grade: 10th, Average Math Score: 76.61\n",
      "School: Shelton High School, Grade: 10th, Average Math Score: 82.92\n",
      "School: Thomas High School, Grade: 10th, Average Math Score: 83.09\n",
      "School: Wilson High School, Grade: 10th, Average Math Score: 83.72\n",
      "School: Wright High School, Grade: 10th, Average Math Score: 84.01\n"
     ]
    }
   ],
   "source": [
    "# Calculate the average math score for 10th grade in each school\n",
    "query = \"\"\"\n",
    "SELECT grade, school.school_name, AVG(math_score) as avg_math_score \n",
    "FROM student\n",
    "JOIN school ON school.school_name = student.school_name\n",
    "WHERE grade = '10th'\n",
    "GROUP BY grade, school.school_name\n",
    "ORDER BY school.school_name , grade\n",
    "\"\"\"\n",
    "avg_math_scores = con.execute(query).fetchall()\n",
    "for row in avg_math_scores:\n",
    "    print(f'School: {row[1]}, Grade: {row[0]}, Average Math Score: {row[2]:.2f}')\n",
    "\n"
   ]
  },
  {
   "cell_type": "code",
   "execution_count": 461,
   "metadata": {},
   "outputs": [
    {
     "name": "stdout",
     "output_type": "stream",
     "text": [
      "School: Bailey High School, Grade: 11th, Average Math Score: 77.52\n",
      "School: Cabrera High School, Grade: 11th, Average Math Score: 82.77\n",
      "School: Figueroa High School, Grade: 11th, Average Math Score: 76.88\n",
      "School: Ford High School, Grade: 11th, Average Math Score: 76.92\n",
      "School: Griffin High School, Grade: 11th, Average Math Score: 83.84\n",
      "School: Hernandez High School, Grade: 11th, Average Math Score: 77.14\n",
      "School: Holden High School, Grade: 11th, Average Math Score: 85.00\n",
      "School: Huang High School, Grade: 11th, Average Math Score: 76.45\n",
      "School: Johnson High School, Grade: 11th, Average Math Score: 77.49\n",
      "School: Pena High School, Grade: 11th, Average Math Score: 84.33\n",
      "School: Rodriguez High School, Grade: 11th, Average Math Score: 76.40\n",
      "School: Shelton High School, Grade: 11th, Average Math Score: 83.38\n",
      "School: Thomas High School, Grade: 11th, Average Math Score: 83.50\n",
      "School: Wilson High School, Grade: 11th, Average Math Score: 83.20\n",
      "School: Wright High School, Grade: 11th, Average Math Score: 83.84\n"
     ]
    }
   ],
   "source": [
    "# Calculate the average math score for 11th grade in each school\n",
    "query = \"\"\"\n",
    "SELECT grade, school.school_name, AVG(math_score) as avg_math_score \n",
    "FROM student\n",
    "JOIN school ON school.school_name = student.school_name\n",
    "WHERE grade = '11th'\n",
    "GROUP BY grade, school.school_name\n",
    "ORDER BY school.school_name , grade\n",
    "\"\"\"\n",
    "avg_math_scores = con.execute(query).fetchall()\n",
    "for row in avg_math_scores:\n",
    "    print(f'School: {row[1]}, Grade: {row[0]}, Average Math Score: {row[2]:.2f}')\n",
    "\n"
   ]
  },
  {
   "cell_type": "code",
   "execution_count": 462,
   "metadata": {},
   "outputs": [
    {
     "name": "stdout",
     "output_type": "stream",
     "text": [
      "School: Bailey High School, Grade: 12th, Average Math Score: 76.49\n",
      "School: Cabrera High School, Grade: 12th, Average Math Score: 83.28\n",
      "School: Figueroa High School, Grade: 12th, Average Math Score: 77.15\n",
      "School: Ford High School, Grade: 12th, Average Math Score: 76.18\n",
      "School: Griffin High School, Grade: 12th, Average Math Score: 83.36\n",
      "School: Hernandez High School, Grade: 12th, Average Math Score: 77.19\n",
      "School: Holden High School, Grade: 12th, Average Math Score: 82.86\n",
      "School: Huang High School, Grade: 12th, Average Math Score: 77.23\n",
      "School: Johnson High School, Grade: 12th, Average Math Score: 76.86\n",
      "School: Pena High School, Grade: 12th, Average Math Score: 84.12\n",
      "School: Rodriguez High School, Grade: 12th, Average Math Score: 77.69\n",
      "School: Shelton High School, Grade: 12th, Average Math Score: 83.78\n",
      "School: Thomas High School, Grade: 12th, Average Math Score: 83.50\n",
      "School: Wilson High School, Grade: 12th, Average Math Score: 83.04\n",
      "School: Wright High School, Grade: 12th, Average Math Score: 83.64\n"
     ]
    }
   ],
   "source": [
    "# Calculate the average math score for 12th grade in each school\n",
    "query = \"\"\"\n",
    "SELECT grade, school.school_name, AVG(math_score) as avg_math_score \n",
    "FROM student\n",
    "JOIN school ON school.school_name = student.school_name\n",
    "WHERE grade = '12th'\n",
    "GROUP BY grade, school.school_name\n",
    "ORDER BY school.school_name , grade\n",
    "\"\"\"\n",
    "avg_math_scores = con.execute(query).fetchall()\n",
    "for row in avg_math_scores:\n",
    "    print(f'School: {row[1]}, Grade: {row[0]}, Average Math Score: {row[2]:.2f}')\n",
    "\n"
   ]
  },
  {
   "cell_type": "markdown",
   "metadata": {},
   "source": [
    "### Reading Score by Grade "
   ]
  },
  {
   "cell_type": "markdown",
   "metadata": {},
   "source": [
    "* Perform the same operations as above for reading scores"
   ]
  },
  {
   "cell_type": "code",
   "execution_count": 465,
   "metadata": {},
   "outputs": [
    {
     "name": "stdout",
     "output_type": "stream",
     "text": [
      "School: Bailey High School, Grade: 10th, Average Reading Score: 80.91\n",
      "School: Bailey High School, Grade: 11th, Average Reading Score: 80.95\n",
      "School: Bailey High School, Grade: 12th, Average Reading Score: 80.91\n",
      "School: Bailey High School, Grade: 9th, Average Reading Score: 81.30\n",
      "School: Cabrera High School, Grade: 10th, Average Reading Score: 84.25\n",
      "School: Cabrera High School, Grade: 11th, Average Reading Score: 83.79\n",
      "School: Cabrera High School, Grade: 12th, Average Reading Score: 84.29\n",
      "School: Cabrera High School, Grade: 9th, Average Reading Score: 83.68\n",
      "School: Figueroa High School, Grade: 10th, Average Reading Score: 81.41\n",
      "School: Figueroa High School, Grade: 11th, Average Reading Score: 80.64\n",
      "School: Figueroa High School, Grade: 12th, Average Reading Score: 81.38\n",
      "School: Figueroa High School, Grade: 9th, Average Reading Score: 81.20\n",
      "School: Ford High School, Grade: 10th, Average Reading Score: 81.26\n",
      "School: Ford High School, Grade: 11th, Average Reading Score: 80.40\n",
      "School: Ford High School, Grade: 12th, Average Reading Score: 80.66\n",
      "School: Ford High School, Grade: 9th, Average Reading Score: 80.63\n",
      "School: Griffin High School, Grade: 10th, Average Reading Score: 83.71\n",
      "School: Griffin High School, Grade: 11th, Average Reading Score: 84.29\n",
      "School: Griffin High School, Grade: 12th, Average Reading Score: 84.01\n",
      "School: Griffin High School, Grade: 9th, Average Reading Score: 83.37\n",
      "School: Hernandez High School, Grade: 10th, Average Reading Score: 80.66\n",
      "School: Hernandez High School, Grade: 11th, Average Reading Score: 81.40\n",
      "School: Hernandez High School, Grade: 12th, Average Reading Score: 80.86\n",
      "School: Hernandez High School, Grade: 9th, Average Reading Score: 80.87\n",
      "School: Holden High School, Grade: 10th, Average Reading Score: 83.32\n",
      "School: Holden High School, Grade: 11th, Average Reading Score: 83.82\n",
      "School: Holden High School, Grade: 12th, Average Reading Score: 84.70\n",
      "School: Holden High School, Grade: 9th, Average Reading Score: 83.68\n",
      "School: Huang High School, Grade: 10th, Average Reading Score: 81.51\n",
      "School: Huang High School, Grade: 11th, Average Reading Score: 81.42\n",
      "School: Huang High School, Grade: 12th, Average Reading Score: 80.31\n",
      "School: Huang High School, Grade: 9th, Average Reading Score: 81.29\n",
      "School: Johnson High School, Grade: 10th, Average Reading Score: 80.77\n",
      "School: Johnson High School, Grade: 11th, Average Reading Score: 80.62\n",
      "School: Johnson High School, Grade: 12th, Average Reading Score: 81.23\n",
      "School: Johnson High School, Grade: 9th, Average Reading Score: 81.26\n",
      "School: Pena High School, Grade: 10th, Average Reading Score: 83.61\n",
      "School: Pena High School, Grade: 11th, Average Reading Score: 84.34\n",
      "School: Pena High School, Grade: 12th, Average Reading Score: 84.59\n",
      "School: Pena High School, Grade: 9th, Average Reading Score: 83.81\n",
      "School: Rodriguez High School, Grade: 10th, Average Reading Score: 80.63\n",
      "School: Rodriguez High School, Grade: 11th, Average Reading Score: 80.86\n",
      "School: Rodriguez High School, Grade: 12th, Average Reading Score: 80.38\n",
      "School: Rodriguez High School, Grade: 9th, Average Reading Score: 80.99\n",
      "School: Shelton High School, Grade: 10th, Average Reading Score: 83.44\n",
      "School: Shelton High School, Grade: 11th, Average Reading Score: 84.37\n",
      "School: Shelton High School, Grade: 12th, Average Reading Score: 82.78\n",
      "School: Shelton High School, Grade: 9th, Average Reading Score: 84.12\n",
      "School: Thomas High School, Grade: 10th, Average Reading Score: 84.25\n",
      "School: Thomas High School, Grade: 11th, Average Reading Score: 83.59\n",
      "School: Thomas High School, Grade: 12th, Average Reading Score: 83.83\n",
      "School: Thomas High School, Grade: 9th, Average Reading Score: 83.73\n",
      "School: Wilson High School, Grade: 10th, Average Reading Score: 84.02\n",
      "School: Wilson High School, Grade: 11th, Average Reading Score: 83.76\n",
      "School: Wilson High School, Grade: 12th, Average Reading Score: 84.32\n",
      "School: Wilson High School, Grade: 9th, Average Reading Score: 83.94\n",
      "School: Wright High School, Grade: 10th, Average Reading Score: 83.81\n",
      "School: Wright High School, Grade: 11th, Average Reading Score: 84.16\n",
      "School: Wright High School, Grade: 12th, Average Reading Score: 84.07\n",
      "School: Wright High School, Grade: 9th, Average Reading Score: 83.83\n"
     ]
    }
   ],
   "source": [
    "# Create table that lists the average reading score for each school of each grade level.\n",
    "query = \"\"\"\n",
    "SELECT grade, school.school_name, AVG(reading_score) as avg_reading_score \n",
    "FROM student\n",
    "JOIN school ON school.school_name = student.school_name\n",
    "GROUP BY grade, school.school_name\n",
    "ORDER BY school.school_name , grade\n",
    "\"\"\"\n",
    "avg_reading_scores = con.execute(query).fetchall()\n",
    "for row in avg_reading_scores:\n",
    "    print(f'School: {row[1]}, Grade: {row[0]}, Average Reading Score: {row[2]:.2f}')\n"
   ]
  },
  {
   "cell_type": "code",
   "execution_count": 466,
   "metadata": {},
   "outputs": [
    {
     "name": "stdout",
     "output_type": "stream",
     "text": [
      "School: Bailey High School, Grade: 9th, Average Reading Score: 81.30\n",
      "School: Cabrera High School, Grade: 9th, Average Reading Score: 83.68\n",
      "School: Figueroa High School, Grade: 9th, Average Reading Score: 81.20\n",
      "School: Ford High School, Grade: 9th, Average Reading Score: 80.63\n",
      "School: Griffin High School, Grade: 9th, Average Reading Score: 83.37\n",
      "School: Hernandez High School, Grade: 9th, Average Reading Score: 80.87\n",
      "School: Holden High School, Grade: 9th, Average Reading Score: 83.68\n",
      "School: Huang High School, Grade: 9th, Average Reading Score: 81.29\n",
      "School: Johnson High School, Grade: 9th, Average Reading Score: 81.26\n",
      "School: Pena High School, Grade: 9th, Average Reading Score: 83.81\n",
      "School: Rodriguez High School, Grade: 9th, Average Reading Score: 80.99\n",
      "School: Shelton High School, Grade: 9th, Average Reading Score: 84.12\n",
      "School: Thomas High School, Grade: 9th, Average Reading Score: 83.73\n",
      "School: Wilson High School, Grade: 9th, Average Reading Score: 83.94\n",
      "School: Wright High School, Grade: 9th, Average Reading Score: 83.83\n"
     ]
    }
   ],
   "source": [
    "# Calculate the average reading score for 9th grade in each school\n",
    "query = \"\"\"\n",
    "SELECT grade, school.school_name, AVG(reading_score) as avg_reading_score \n",
    "FROM student\n",
    "JOIN school ON school.school_name = student.school_name\n",
    "WHERE grade = '9th'\n",
    "GROUP BY grade, school.school_name\n",
    "ORDER BY school.school_name , grade\n",
    "\"\"\"\n",
    "avg_reading_scores = con.execute(query).fetchall()\n",
    "for row in avg_reading_scores:\n",
    "    print(f'School: {row[1]}, Grade: {row[0]}, Average Reading Score: {row[2]:.2f}')\n",
    "\n"
   ]
  },
  {
   "cell_type": "code",
   "execution_count": 467,
   "metadata": {},
   "outputs": [
    {
     "name": "stdout",
     "output_type": "stream",
     "text": [
      "School: Bailey High School, Grade: 10th, Average Reading Score: 80.91\n",
      "School: Cabrera High School, Grade: 10th, Average Reading Score: 84.25\n",
      "School: Figueroa High School, Grade: 10th, Average Reading Score: 81.41\n",
      "School: Ford High School, Grade: 10th, Average Reading Score: 81.26\n",
      "School: Griffin High School, Grade: 10th, Average Reading Score: 83.71\n",
      "School: Hernandez High School, Grade: 10th, Average Reading Score: 80.66\n",
      "School: Holden High School, Grade: 10th, Average Reading Score: 83.32\n",
      "School: Huang High School, Grade: 10th, Average Reading Score: 81.51\n",
      "School: Johnson High School, Grade: 10th, Average Reading Score: 80.77\n",
      "School: Pena High School, Grade: 10th, Average Reading Score: 83.61\n",
      "School: Rodriguez High School, Grade: 10th, Average Reading Score: 80.63\n",
      "School: Shelton High School, Grade: 10th, Average Reading Score: 83.44\n",
      "School: Thomas High School, Grade: 10th, Average Reading Score: 84.25\n",
      "School: Wilson High School, Grade: 10th, Average Reading Score: 84.02\n",
      "School: Wright High School, Grade: 10th, Average Reading Score: 83.81\n"
     ]
    }
   ],
   "source": [
    "# Calculate the average reading score for 10th grade in each school\n",
    "query = \"\"\"\n",
    "SELECT grade, school.school_name, AVG(reading_score) as avg_reading_score \n",
    "FROM student\n",
    "JOIN school ON school.school_name = student.school_name\n",
    "WHERE grade = '10th'\n",
    "GROUP BY grade, school.school_name\n",
    "ORDER BY school.school_name , grade\n",
    "\"\"\"\n",
    "avg_reading_scores = con.execute(query).fetchall()\n",
    "for row in avg_reading_scores:\n",
    "    print(f'School: {row[1]}, Grade: {row[0]}, Average Reading Score: {row[2]:.2f}')\n",
    "\n",
    "\n"
   ]
  },
  {
   "cell_type": "code",
   "execution_count": 468,
   "metadata": {},
   "outputs": [
    {
     "name": "stdout",
     "output_type": "stream",
     "text": [
      "School: Bailey High School, Grade: 11th, Average Reading Score: 80.95\n",
      "School: Cabrera High School, Grade: 11th, Average Reading Score: 83.79\n",
      "School: Figueroa High School, Grade: 11th, Average Reading Score: 80.64\n",
      "School: Ford High School, Grade: 11th, Average Reading Score: 80.40\n",
      "School: Griffin High School, Grade: 11th, Average Reading Score: 84.29\n",
      "School: Hernandez High School, Grade: 11th, Average Reading Score: 81.40\n",
      "School: Holden High School, Grade: 11th, Average Reading Score: 83.82\n",
      "School: Huang High School, Grade: 11th, Average Reading Score: 81.42\n",
      "School: Johnson High School, Grade: 11th, Average Reading Score: 80.62\n",
      "School: Pena High School, Grade: 11th, Average Reading Score: 84.34\n",
      "School: Rodriguez High School, Grade: 11th, Average Reading Score: 80.86\n",
      "School: Shelton High School, Grade: 11th, Average Reading Score: 84.37\n",
      "School: Thomas High School, Grade: 11th, Average Reading Score: 83.59\n",
      "School: Wilson High School, Grade: 11th, Average Reading Score: 83.76\n",
      "School: Wright High School, Grade: 11th, Average Reading Score: 84.16\n"
     ]
    }
   ],
   "source": [
    "# Calculate the average reading score for 11th grade in each school\n",
    "query = \"\"\"\n",
    "SELECT grade, school.school_name, AVG(reading_score) as avg_reading_score \n",
    "FROM student\n",
    "JOIN school ON school.school_name = student.school_name\n",
    "WHERE grade = '11th'\n",
    "GROUP BY grade, school.school_name\n",
    "ORDER BY school.school_name , grade\n",
    "\"\"\"\n",
    "avg_reading_scores = con.execute(query).fetchall()\n",
    "for row in avg_reading_scores:\n",
    "    print(f'School: {row[1]}, Grade: {row[0]}, Average Reading Score: {row[2]:.2f}')\n",
    "\n",
    "\n"
   ]
  },
  {
   "cell_type": "code",
   "execution_count": 469,
   "metadata": {},
   "outputs": [
    {
     "name": "stdout",
     "output_type": "stream",
     "text": [
      "School: Bailey High School, Grade: 12th, Average Reading Score: 80.91\n",
      "School: Cabrera High School, Grade: 12th, Average Reading Score: 84.29\n",
      "School: Figueroa High School, Grade: 12th, Average Reading Score: 81.38\n",
      "School: Ford High School, Grade: 12th, Average Reading Score: 80.66\n",
      "School: Griffin High School, Grade: 12th, Average Reading Score: 84.01\n",
      "School: Hernandez High School, Grade: 12th, Average Reading Score: 80.86\n",
      "School: Holden High School, Grade: 12th, Average Reading Score: 84.70\n",
      "School: Huang High School, Grade: 12th, Average Reading Score: 80.31\n",
      "School: Johnson High School, Grade: 12th, Average Reading Score: 81.23\n",
      "School: Pena High School, Grade: 12th, Average Reading Score: 84.59\n",
      "School: Rodriguez High School, Grade: 12th, Average Reading Score: 80.38\n",
      "School: Shelton High School, Grade: 12th, Average Reading Score: 82.78\n",
      "School: Thomas High School, Grade: 12th, Average Reading Score: 83.83\n",
      "School: Wilson High School, Grade: 12th, Average Reading Score: 84.32\n",
      "School: Wright High School, Grade: 12th, Average Reading Score: 84.07\n"
     ]
    }
   ],
   "source": [
    "# Calculate the average reading score for 12th grade in each school\n",
    "query = \"\"\"\n",
    "SELECT grade, school.school_name, AVG(reading_score) as avg_reading_score \n",
    "FROM student\n",
    "JOIN school ON school.school_name = student.school_name\n",
    "WHERE grade = '12th'\n",
    "GROUP BY grade, school.school_name\n",
    "ORDER BY school.school_name , grade\n",
    "\"\"\"\n",
    "avg_reading_scores = con.execute(query).fetchall()\n",
    "for row in avg_reading_scores:\n",
    "    print(f'School: {row[1]}, Grade: {row[0]}, Average Reading Score: {row[2]:.2f}')\n",
    "\n",
    "\n"
   ]
  },
  {
   "cell_type": "markdown",
   "metadata": {},
   "source": [
    "## Scores by School Spending"
   ]
  },
  {
   "cell_type": "markdown",
   "metadata": {},
   "source": [
    "* Create a table that breaks down school performances based on average Spending Ranges (Per Student). Use 4 reasonable bins to group school spending. Include in the table each of the following:\n",
    "  * Average Math Score\n",
    "  * Average Reading Score\n",
    "  * % Passing Math\n",
    "  * % Passing Reading\n",
    "  * Overall Passing Rate (Average of the above two)"
   ]
  },
  {
   "cell_type": "code",
   "execution_count": 472,
   "metadata": {},
   "outputs": [],
   "source": [
    "# Sample bins. Feel free to create your own bins.\n",
    "spending_bins = [0, 585, 615, 645, 675]\n",
    "group_names = [\"<$585\", \"$585-615\", \"$615-645\", \"$645-675\"]"
   ]
  },
  {
   "cell_type": "code",
   "execution_count": 473,
   "metadata": {},
   "outputs": [
    {
     "name": "stdout",
     "output_type": "stream",
     "text": [
      "School Budget per student: [('Huang High School', 655), ('Figueroa High School', 639), ('Shelton High School', 600), ('Hernandez High School', 652), ('Griffin High School', 625), ('Wilson High School', 578), ('Cabrera High School', 582), ('Bailey High School', 628), ('Holden High School', 581), ('Pena High School', 609), ('Wright High School', 583), ('Rodriguez High School', 637), ('Johnson High School', 650), ('Ford High School', 644), ('Thomas High School', 638)]\n"
     ]
    }
   ],
   "source": [
    "# Create a new column to show budget per student in each row\n",
    "query = \"\"\"\n",
    "SELECT school.school_name, ((school.budget) / (school.size)) as school_budget \n",
    "FROM school \n",
    "    \n",
    "\"\"\"\n",
    "school_budget = con.execute(query).fetchall()\n",
    "print(f'School Budget per student: {school_budget}')\n"
   ]
  },
  {
   "cell_type": "code",
   "execution_count": 474,
   "metadata": {},
   "outputs": [],
   "source": [
    "# Create a new column to define the spending ranges per student\n",
    "\n",
    "spending_bins = [0, 585, 615, 645, 675]\n"
   ]
  },
  {
   "cell_type": "code",
   "execution_count": 515,
   "metadata": {},
   "outputs": [
    {
     "name": "stdout",
     "output_type": "stream",
     "text": [
      "Budget Category: 0-585, School: Cabrera High School, Average Math Score: 83.06\n",
      "Budget Category: 0-585, School: Holden High School, Average Math Score: 83.80\n",
      "Budget Category: 0-585, School: Wilson High School, Average Math Score: 83.27\n",
      "Budget Category: 0-585, School: Wright High School, Average Math Score: 83.68\n",
      "Budget Category: 586-615, School: Pena High School, Average Math Score: 83.84\n",
      "Budget Category: 586-615, School: Shelton High School, Average Math Score: 83.36\n",
      "Budget Category: 616-645, School: Bailey High School, Average Math Score: 77.05\n",
      "Budget Category: 616-645, School: Figueroa High School, Average Math Score: 76.71\n",
      "Budget Category: 616-645, School: Ford High School, Average Math Score: 77.10\n",
      "Budget Category: 616-645, School: Griffin High School, Average Math Score: 83.35\n",
      "Budget Category: 616-645, School: Rodriguez High School, Average Math Score: 76.84\n",
      "Budget Category: 616-645, School: Thomas High School, Average Math Score: 83.42\n",
      "Budget Category: 646-675, School: Hernandez High School, Average Math Score: 77.29\n",
      "Budget Category: 646-675, School: Huang High School, Average Math Score: 76.63\n",
      "Budget Category: 646-675, School: Johnson High School, Average Math Score: 77.07\n"
     ]
    }
   ],
   "source": [
    "# Calculate the average math score within each spending range\n",
    "query = \"\"\"\n",
    "SELECT AVG(student.math_score) as avg_math_score, school.school_name, (school.budget) / (school.size) as school_budget,\n",
    "    CASE\n",
    "        WHEN (school.budget) / (school.size) <= 585 THEN ('0-585')\n",
    "        WHEN (school.budget) / (school.size) > 585 AND (school.budget) / (school.size) <=615 THEN ('586-615')\n",
    "        WHEN (school.budget) / (school.size) > 615 AND (school.budget) / (school.size) <=645 THEN ('616-645')\n",
    "        WHEN (school.budget) / (school.size) > 645 AND (school.budget) / (school.size) <=675 THEN ('646-675')\n",
    "        ELSE 'Above 675'       \n",
    "    END AS budget_category\n",
    "FROM school\n",
    "JOIN student ON student.school_name = school.school_name\n",
    "GROUP BY budget_category, school.school_name\n",
    "ORDER BY budget_category\n",
    "\"\"\"\n",
    "school_budget = con.execute(query).fetchall()\n",
    "\n",
    "for row in school_budget:\n",
    "    print(f'Budget Category: {row[3]}, School: {row[1]}, Average Math Score: {row[0]:.2f}')"
   ]
  },
  {
   "cell_type": "code",
   "execution_count": 513,
   "metadata": {},
   "outputs": [
    {
     "name": "stdout",
     "output_type": "stream",
     "text": [
      "Budget Category: 0-585, School: Cabrera High School, Passing Rate: 94.13%\n",
      "Budget Category: 0-585, School: Holden High School, Passing Rate: 92.51%\n",
      "Budget Category: 0-585, School: Wilson High School, Passing Rate: 93.87%\n",
      "Budget Category: 0-585, School: Wright High School, Passing Rate: 93.33%\n",
      "Budget Category: 586-615, School: Pena High School, Passing Rate: 94.59%\n",
      "Budget Category: 586-615, School: Shelton High School, Passing Rate: 93.87%\n",
      "Budget Category: 616-645, School: Bailey High School, Passing Rate: 66.68%\n",
      "Budget Category: 616-645, School: Figueroa High School, Passing Rate: 65.99%\n",
      "Budget Category: 616-645, School: Ford High School, Passing Rate: 68.31%\n",
      "Budget Category: 616-645, School: Griffin High School, Passing Rate: 93.39%\n",
      "Budget Category: 616-645, School: Rodriguez High School, Passing Rate: 66.37%\n",
      "Budget Category: 616-645, School: Thomas High School, Passing Rate: 93.27%\n",
      "Budget Category: 646-675, School: Hernandez High School, Passing Rate: 66.75%\n",
      "Budget Category: 646-675, School: Huang High School, Passing Rate: 65.68%\n",
      "Budget Category: 646-675, School: Johnson High School, Passing Rate: 66.06%\n"
     ]
    }
   ],
   "source": [
    "# Calculate the percentage passing rate for math in each spending range\n",
    "query = \"\"\"\n",
    "SELECT ((COUNT(CASE WHEN student.math_score >= 70 THEN 1 END) * 1.0) / ((school.size))) * 100 AS Passing_Rate, school.school_name, (school.budget) / (school.size) as school_budget,\n",
    "    CASE\n",
    "        WHEN (school.budget) / (school.size) <= 585 THEN ('0-585')\n",
    "        WHEN (school.budget) / (school.size) > 585 AND (school.budget) / (school.size) <=615 THEN ('586-615')\n",
    "        WHEN (school.budget) / (school.size) > 615 AND (school.budget) / (school.size) <=645 THEN ('616-645')\n",
    "        WHEN (school.budget) / (school.size) > 645 AND (school.budget) / (school.size) <=675 THEN ('646-675')\n",
    "        ELSE 'Above 675'       \n",
    "    END AS budget_category\n",
    "FROM school\n",
    "JOIN student ON student.school_name = school.school_name\n",
    "GROUP BY budget_category, school.school_name\n",
    "ORDER BY budget_category\n",
    "\"\"\"\n",
    "school_budget = con.execute(query).fetchall()\n",
    "\n",
    "for row in school_budget:\n",
    "    print(f'Budget Category: {row[3]}, School: {row[1]}, Passing Rate: {row[0]:.2f}%')\n",
    "\n",
    "\n"
   ]
  },
  {
   "cell_type": "code",
   "execution_count": 517,
   "metadata": {},
   "outputs": [
    {
     "name": "stdout",
     "output_type": "stream",
     "text": [
      "Budget Category: 0-585, School: Cabrera High School, Passing Rate: 97.04%\n",
      "Budget Category: 0-585, School: Holden High School, Passing Rate: 96.25%\n",
      "Budget Category: 0-585, School: Wilson High School, Passing Rate: 96.54%\n",
      "Budget Category: 0-585, School: Wright High School, Passing Rate: 96.61%\n",
      "Budget Category: 586-615, School: Pena High School, Passing Rate: 95.95%\n",
      "Budget Category: 586-615, School: Shelton High School, Passing Rate: 95.85%\n",
      "Budget Category: 616-645, School: Bailey High School, Passing Rate: 81.93%\n",
      "Budget Category: 616-645, School: Figueroa High School, Passing Rate: 80.74%\n",
      "Budget Category: 616-645, School: Ford High School, Passing Rate: 79.30%\n",
      "Budget Category: 616-645, School: Griffin High School, Passing Rate: 97.14%\n",
      "Budget Category: 616-645, School: Rodriguez High School, Passing Rate: 80.22%\n",
      "Budget Category: 616-645, School: Thomas High School, Passing Rate: 97.31%\n",
      "Budget Category: 646-675, School: Hernandez High School, Passing Rate: 80.86%\n",
      "Budget Category: 646-675, School: Huang High School, Passing Rate: 81.32%\n",
      "Budget Category: 646-675, School: Johnson High School, Passing Rate: 81.22%\n"
     ]
    }
   ],
   "source": [
    "# Calculate the percentage passing rate for reading in each spending range\n",
    "query = \"\"\"\n",
    "SELECT ((COUNT(CASE WHEN student.reading_score >= 70 THEN 1 END) * 1.0) / ((school.size))) * 100 AS Passing_Rate, school.school_name, (school.budget) / (school.size) as school_budget,\n",
    "    CASE\n",
    "        WHEN (school.budget) / (school.size) <= 585 THEN ('0-585')\n",
    "        WHEN (school.budget) / (school.size) > 585 AND (school.budget) / (school.size) <=615 THEN ('586-615')\n",
    "        WHEN (school.budget) / (school.size) > 615 AND (school.budget) / (school.size) <=645 THEN ('616-645')\n",
    "        WHEN (school.budget) / (school.size) > 645 AND (school.budget) / (school.size) <=675 THEN ('646-675')\n",
    "        ELSE 'Above 675'       \n",
    "    END AS budget_category\n",
    "FROM school\n",
    "JOIN student ON student.school_name = school.school_name\n",
    "GROUP BY budget_category, school.school_name\n",
    "ORDER BY budget_category\n",
    "\"\"\"\n",
    "school_budget = con.execute(query).fetchall()\n",
    "\n",
    "for row in school_budget:\n",
    "    print(f'Budget Category: {row[3]}, School: {row[1]}, Passing Rate: {row[0]:.2f}%')\n",
    "\n",
    "\n"
   ]
  },
  {
   "cell_type": "code",
   "execution_count": 527,
   "metadata": {},
   "outputs": [
    {
     "name": "stdout",
     "output_type": "stream",
     "text": [
      "Budget Category: 0-585, School: Cabrera High School, Passing Rate: 95.59%\n",
      "Budget Category: 0-585, School: Holden High School, Passing Rate: 94.38%\n",
      "Budget Category: 0-585, School: Wilson High School, Passing Rate: 95.20%\n",
      "Budget Category: 0-585, School: Wright High School, Passing Rate: 94.97%\n",
      "Budget Category: 586-615, School: Pena High School, Passing Rate: 95.27%\n",
      "Budget Category: 586-615, School: Shelton High School, Passing Rate: 94.86%\n",
      "Budget Category: 616-645, School: Bailey High School, Passing Rate: 74.31%\n",
      "Budget Category: 616-645, School: Figueroa High School, Passing Rate: 73.36%\n",
      "Budget Category: 616-645, School: Ford High School, Passing Rate: 73.80%\n",
      "Budget Category: 616-645, School: Griffin High School, Passing Rate: 95.27%\n",
      "Budget Category: 616-645, School: Rodriguez High School, Passing Rate: 73.29%\n",
      "Budget Category: 616-645, School: Thomas High School, Passing Rate: 95.29%\n",
      "Budget Category: 646-675, School: Hernandez High School, Passing Rate: 73.81%\n",
      "Budget Category: 646-675, School: Huang High School, Passing Rate: 73.50%\n",
      "Budget Category: 646-675, School: Johnson High School, Passing Rate: 73.64%\n"
     ]
    }
   ],
   "source": [
    "# Calculate the percentage overall passing rate in each spending range\n",
    "query = \"\"\"\n",
    "SELECT (((((COUNT(CASE WHEN math_score >= 70 THEN 1 END) * 1.0) / (school.size))) +\n",
    "    ((COUNT(CASE WHEN reading_score >= 70 THEN 1 END) * 1.0) / (school.size))) / 2) * 100 AS Passing_Rate, school.school_name, (school.budget) / (school.size) as school_budget,\n",
    "    CASE\n",
    "        WHEN (school.budget) / (school.size) <= 585 THEN ('0-585')\n",
    "        WHEN (school.budget) / (school.size) > 585 AND (school.budget) / (school.size) <=615 THEN ('586-615')\n",
    "        WHEN (school.budget) / (school.size) > 615 AND (school.budget) / (school.size) <=645 THEN ('616-645')\n",
    "        WHEN (school.budget) / (school.size) > 645 AND (school.budget) / (school.size) <=675 THEN ('646-675')\n",
    "        ELSE 'Above 675'       \n",
    "    END AS budget_category\n",
    "FROM school\n",
    "JOIN student ON student.school_name = school.school_name\n",
    "GROUP BY budget_category, school.school_name\n",
    "ORDER BY budget_category\n",
    "\"\"\"\n",
    "school_budget = con.execute(query).fetchall()\n",
    "\n",
    "for row in school_budget:\n",
    "    print(f'Budget Category: {row[3]}, School: {row[1]}, Passing Rate: {row[0]:.2f}%')\n",
    "\n",
    "\n"
   ]
  },
  {
   "cell_type": "markdown",
   "metadata": {},
   "source": [
    "### Scores by School Size"
   ]
  },
  {
   "cell_type": "markdown",
   "metadata": {},
   "source": [
    "* Perform the same operations as above, based on school size."
   ]
  },
  {
   "cell_type": "code",
   "execution_count": null,
   "metadata": {},
   "outputs": [],
   "source": [
    "# Sample bins. Feel free to create your own bins.\n",
    "size_bins = [0, 1000, 2000, 5000]\n",
    "group_names = [\"Small (<1000)\", \"Medium (1000-2000)\", \"Large (2000-5000)\"]"
   ]
  },
  {
   "cell_type": "code",
   "execution_count": null,
   "metadata": {
    "scrolled": true
   },
   "outputs": [],
   "source": [
    "# Create a new column for the bin groups\n",
    "size_bins = [0, 1000, 2000, 5000]"
   ]
  },
  {
   "cell_type": "markdown",
   "metadata": {},
   "source": [
    "Look for the total count of test scores that pass 70% or higher\n",
    "\n",
    "\n"
   ]
  },
  {
   "cell_type": "code",
   "execution_count": 543,
   "metadata": {},
   "outputs": [
    {
     "name": "stdout",
     "output_type": "stream",
     "text": [
      "Size Category: Large (2001-5000), School: Bailey High School, Average Math Score: 77.05\n",
      "Size Category: Large (2001-5000), School: Figueroa High School, Average Math Score: 76.71\n",
      "Size Category: Large (2001-5000), School: Ford High School, Average Math Score: 77.10\n",
      "Size Category: Large (2001-5000), School: Hernandez High School, Average Math Score: 77.29\n",
      "Size Category: Large (2001-5000), School: Huang High School, Average Math Score: 76.63\n",
      "Size Category: Large (2001-5000), School: Johnson High School, Average Math Score: 77.07\n",
      "Size Category: Large (2001-5000), School: Rodriguez High School, Average Math Score: 76.84\n",
      "Size Category: Large (2001-5000), School: Wilson High School, Average Math Score: 83.27\n",
      "Size Category: Medium (1001-2000), School: Cabrera High School, Average Math Score: 83.06\n",
      "Size Category: Medium (1001-2000), School: Griffin High School, Average Math Score: 83.35\n",
      "Size Category: Medium (1001-2000), School: Shelton High School, Average Math Score: 83.36\n",
      "Size Category: Medium (1001-2000), School: Thomas High School, Average Math Score: 83.42\n",
      "Size Category: Medium (1001-2000), School: Wright High School, Average Math Score: 83.68\n",
      "Size Category: Small (0-1000), School: Holden High School, Average Math Score: 83.80\n",
      "Size Category: Small (0-1000), School: Pena High School, Average Math Score: 83.84\n"
     ]
    }
   ],
   "source": [
    "# math_pass_size\n",
    "query = \"\"\"\n",
    "SELECT AVG(student.math_score) as avg_math_score, school.school_name, (school.size) as school_size,\n",
    "    CASE\n",
    "        WHEN (school.size) <= 1000 THEN 'Small (0-1000)'\n",
    "        WHEN (school.size) > 1000 AND (school.size) <=2000 THEN 'Medium (1001-2000)'\n",
    "        WHEN (school.size) > 2000 AND (school.size) <=5000 THEN 'Large (2001-5000)'\n",
    "        ELSE 'X-Large (5001+)'       \n",
    "    END AS size_category\n",
    "FROM school\n",
    "JOIN student ON student.school_name = school.school_name\n",
    "GROUP BY size_category, school.school_name, school.size\n",
    "ORDER BY size_category \n",
    "\"\"\"\n",
    "school_size = con.execute(query).fetchall()\n",
    "\n",
    "for row in school_size:\n",
    "    print(f'Size Category: {row[3]}, School: {row[1]}, Average Math Score: {row[0]:.2f}')\n",
    "\n"
   ]
  },
  {
   "cell_type": "code",
   "execution_count": 545,
   "metadata": {},
   "outputs": [
    {
     "name": "stdout",
     "output_type": "stream",
     "text": [
      "Size Category: Large (2001-5000), School: Bailey High School, Average Math Score: 81.03\n",
      "Size Category: Large (2001-5000), School: Figueroa High School, Average Math Score: 81.16\n",
      "Size Category: Large (2001-5000), School: Ford High School, Average Math Score: 80.75\n",
      "Size Category: Large (2001-5000), School: Hernandez High School, Average Math Score: 80.93\n",
      "Size Category: Large (2001-5000), School: Huang High School, Average Math Score: 81.18\n",
      "Size Category: Large (2001-5000), School: Johnson High School, Average Math Score: 80.97\n",
      "Size Category: Large (2001-5000), School: Rodriguez High School, Average Math Score: 80.74\n",
      "Size Category: Large (2001-5000), School: Wilson High School, Average Math Score: 83.99\n",
      "Size Category: Medium (1001-2000), School: Cabrera High School, Average Math Score: 83.98\n",
      "Size Category: Medium (1001-2000), School: Griffin High School, Average Math Score: 83.82\n",
      "Size Category: Medium (1001-2000), School: Shelton High School, Average Math Score: 83.73\n",
      "Size Category: Medium (1001-2000), School: Thomas High School, Average Math Score: 83.85\n",
      "Size Category: Medium (1001-2000), School: Wright High School, Average Math Score: 83.95\n",
      "Size Category: Small (0-1000), School: Holden High School, Average Math Score: 83.81\n",
      "Size Category: Small (0-1000), School: Pena High School, Average Math Score: 84.04\n"
     ]
    }
   ],
   "source": [
    "# read_pass_size\n",
    "query = \"\"\"\n",
    "SELECT AVG(student.reading_score) as avg_reading_score, school.school_name, (school.size) as school_size,\n",
    "    CASE\n",
    "        WHEN (school.size) <= 1000 THEN 'Small (0-1000)'\n",
    "        WHEN (school.size) > 1000 AND (school.size) <=2000 THEN 'Medium (1001-2000)'\n",
    "        WHEN (school.size) > 2000 AND (school.size) <=5000 THEN 'Large (2001-5000)'\n",
    "        ELSE 'X-Large (5001+)'       \n",
    "    END AS size_category\n",
    "FROM school\n",
    "JOIN student ON student.school_name = school.school_name\n",
    "GROUP BY size_category, school.school_name, school.size\n",
    "ORDER BY size_category \n",
    "\"\"\"\n",
    "school_size = con.execute(query).fetchall()\n",
    "\n",
    "for row in school_size:\n",
    "    print(f'Size Category: {row[3]}, School: {row[1]}, Average Math Score: {row[0]:.2f}')\n",
    "\n"
   ]
  },
  {
   "cell_type": "code",
   "execution_count": 547,
   "metadata": {},
   "outputs": [
    {
     "name": "stdout",
     "output_type": "stream",
     "text": [
      "Size Category: Large (2001-5000), School: Bailey High School, Passing Rate: 74.31%\n",
      "Size Category: Large (2001-5000), School: Figueroa High School, Passing Rate: 73.36%\n",
      "Size Category: Large (2001-5000), School: Ford High School, Passing Rate: 73.80%\n",
      "Size Category: Large (2001-5000), School: Hernandez High School, Passing Rate: 73.81%\n",
      "Size Category: Large (2001-5000), School: Huang High School, Passing Rate: 73.50%\n",
      "Size Category: Large (2001-5000), School: Johnson High School, Passing Rate: 73.64%\n",
      "Size Category: Large (2001-5000), School: Rodriguez High School, Passing Rate: 73.29%\n",
      "Size Category: Large (2001-5000), School: Wilson High School, Passing Rate: 95.20%\n",
      "Size Category: Medium (1001-2000), School: Cabrera High School, Passing Rate: 95.59%\n",
      "Size Category: Medium (1001-2000), School: Griffin High School, Passing Rate: 95.27%\n",
      "Size Category: Medium (1001-2000), School: Shelton High School, Passing Rate: 94.86%\n",
      "Size Category: Medium (1001-2000), School: Thomas High School, Passing Rate: 95.29%\n",
      "Size Category: Medium (1001-2000), School: Wright High School, Passing Rate: 94.97%\n",
      "Size Category: Small (0-1000), School: Holden High School, Passing Rate: 94.38%\n",
      "Size Category: Small (0-1000), School: Pena High School, Passing Rate: 95.27%\n"
     ]
    }
   ],
   "source": [
    "# Calculate the overall passing rate for different school size\n",
    "query = \"\"\"\n",
    "SELECT (((((COUNT(CASE WHEN math_score >= 70 THEN 1 END) * 1.0) / (school.size))) +\n",
    "    ((COUNT(CASE WHEN reading_score >= 70 THEN 1 END) * 1.0) / (school.size))) / 2) * 100 AS Passing_Rate, school.school_name, (school.size) as school_size,\n",
    "    CASE\n",
    "        WHEN (school.size) <= 1000 THEN 'Small (0-1000)'\n",
    "        WHEN (school.size) > 1000 AND (school.size) <=2000 THEN 'Medium (1001-2000)'\n",
    "        WHEN (school.size) > 2000 AND (school.size) <=5000 THEN 'Large (2001-5000)'\n",
    "        ELSE 'X-Large (5001+)'       \n",
    "    END AS size_category\n",
    "FROM school\n",
    "JOIN student ON student.school_name = school.school_name\n",
    "GROUP BY size_category, school.school_name, school.size\n",
    "ORDER BY size_category\n",
    "\"\"\"\n",
    "school_size = con.execute(query).fetchall()\n",
    "\n",
    "for row in school_size:\n",
    "    print(f'Size Category: {row[3]}, School: {row[1]}, Passing Rate: {row[0]:.2f}%')\n",
    "\n"
   ]
  },
  {
   "cell_type": "markdown",
   "metadata": {},
   "source": [
    "### Scores by School Type"
   ]
  },
  {
   "cell_type": "markdown",
   "metadata": {},
   "source": [
    "* Perform the same operations as above, based on school type."
   ]
  },
  {
   "cell_type": "code",
   "execution_count": null,
   "metadata": {},
   "outputs": [],
   "source": [
    "# Create bins and groups, school type {'Charter', 'District'}\n",
    "\n",
    "type_bins = ['Charter', 'District']\n"
   ]
  },
  {
   "cell_type": "markdown",
   "metadata": {},
   "source": [
    "Find counts of the passing 70 or higher score for the both test\n"
   ]
  },
  {
   "cell_type": "code",
   "execution_count": 557,
   "metadata": {},
   "outputs": [
    {
     "name": "stdout",
     "output_type": "stream",
     "text": [
      "School Category: Charter, School: Cabrera High School, Average Math Score: 83.06\n",
      "School Category: Charter, School: Griffin High School, Average Math Score: 83.35\n",
      "School Category: Charter, School: Holden High School, Average Math Score: 83.80\n",
      "School Category: Charter, School: Pena High School, Average Math Score: 83.84\n",
      "School Category: Charter, School: Shelton High School, Average Math Score: 83.36\n",
      "School Category: Charter, School: Thomas High School, Average Math Score: 83.42\n",
      "School Category: Charter, School: Wilson High School, Average Math Score: 83.27\n",
      "School Category: Charter, School: Wright High School, Average Math Score: 83.68\n",
      "School Category: District, School: Bailey High School, Average Math Score: 77.05\n",
      "School Category: District, School: Figueroa High School, Average Math Score: 76.71\n",
      "School Category: District, School: Ford High School, Average Math Score: 77.10\n",
      "School Category: District, School: Hernandez High School, Average Math Score: 77.29\n",
      "School Category: District, School: Huang High School, Average Math Score: 76.63\n",
      "School Category: District, School: Johnson High School, Average Math Score: 77.07\n",
      "School Category: District, School: Rodriguez High School, Average Math Score: 76.84\n"
     ]
    }
   ],
   "source": [
    "# math pass size\n",
    "query = \"\"\"\n",
    "SELECT AVG(student.math_score) as avg_math_score, school.school_name, (school.type) as school_type,\n",
    "    CASE\n",
    "        WHEN (school.type) = 'District' THEN 'District'\n",
    "        WHEN (school.type) = 'Charter' THEN 'Charter'\n",
    "        ELSE 'Custom'       \n",
    "    END AS school_category\n",
    "FROM school\n",
    "JOIN student ON student.school_name = school.school_name\n",
    "GROUP BY school_category, school.school_name, school.type\n",
    "ORDER BY school_category \n",
    "\"\"\"\n",
    "school_type = con.execute(query).fetchall()\n",
    "\n",
    "for row in school_type:\n",
    "    print(f'School Category: {row[3]}, School: {row[1]}, Average Math Score: {row[0]:.2f}')\n",
    "\n"
   ]
  },
  {
   "cell_type": "code",
   "execution_count": 559,
   "metadata": {},
   "outputs": [
    {
     "name": "stdout",
     "output_type": "stream",
     "text": [
      "School Category: Charter, School: Cabrera High School, Average Reading Score: 83.98\n",
      "School Category: Charter, School: Griffin High School, Average Reading Score: 83.82\n",
      "School Category: Charter, School: Holden High School, Average Reading Score: 83.81\n",
      "School Category: Charter, School: Pena High School, Average Reading Score: 84.04\n",
      "School Category: Charter, School: Shelton High School, Average Reading Score: 83.73\n",
      "School Category: Charter, School: Thomas High School, Average Reading Score: 83.85\n",
      "School Category: Charter, School: Wilson High School, Average Reading Score: 83.99\n",
      "School Category: Charter, School: Wright High School, Average Reading Score: 83.95\n",
      "School Category: District, School: Bailey High School, Average Reading Score: 81.03\n",
      "School Category: District, School: Figueroa High School, Average Reading Score: 81.16\n",
      "School Category: District, School: Ford High School, Average Reading Score: 80.75\n",
      "School Category: District, School: Hernandez High School, Average Reading Score: 80.93\n",
      "School Category: District, School: Huang High School, Average Reading Score: 81.18\n",
      "School Category: District, School: Johnson High School, Average Reading Score: 80.97\n",
      "School Category: District, School: Rodriguez High School, Average Reading Score: 80.74\n"
     ]
    }
   ],
   "source": [
    "# reading pass size\n",
    "query = \"\"\"\n",
    "SELECT AVG(student.reading_score) as avg_reading_score, school.school_name, (school.type) as school_type,\n",
    "    CASE\n",
    "        WHEN (school.type) = 'District' THEN 'District'\n",
    "        WHEN (school.type) = 'Charter' THEN 'Charter'\n",
    "        ELSE 'Custom'       \n",
    "    END AS school_category\n",
    "FROM school\n",
    "JOIN student ON student.school_name = school.school_name\n",
    "GROUP BY school_category, school.school_name, school.type\n",
    "ORDER BY school_category \n",
    "\"\"\"\n",
    "school_type = con.execute(query).fetchall()\n",
    "\n",
    "for row in school_type:\n",
    "    print(f'School Category: {row[3]}, School: {row[1]}, Average Reading Score: {row[0]:.2f}')\n"
   ]
  },
  {
   "cell_type": "code",
   "execution_count": 565,
   "metadata": {},
   "outputs": [
    {
     "name": "stdout",
     "output_type": "stream",
     "text": [
      "School Category: Charter, School: Cabrera High School, Average Reading Score: 95.59\n",
      "School Category: Charter, School: Griffin High School, Average Reading Score: 95.27\n",
      "School Category: Charter, School: Holden High School, Average Reading Score: 94.38\n",
      "School Category: Charter, School: Pena High School, Average Reading Score: 95.27\n",
      "School Category: Charter, School: Shelton High School, Average Reading Score: 94.86\n",
      "School Category: Charter, School: Thomas High School, Average Reading Score: 95.29\n",
      "School Category: Charter, School: Wilson High School, Average Reading Score: 95.20\n",
      "School Category: Charter, School: Wright High School, Average Reading Score: 94.97\n",
      "School Category: District, School: Bailey High School, Average Reading Score: 74.31\n",
      "School Category: District, School: Figueroa High School, Average Reading Score: 73.36\n",
      "School Category: District, School: Ford High School, Average Reading Score: 73.80\n",
      "School Category: District, School: Hernandez High School, Average Reading Score: 73.81\n",
      "School Category: District, School: Huang High School, Average Reading Score: 73.50\n",
      "School Category: District, School: Johnson High School, Average Reading Score: 73.64\n",
      "School Category: District, School: Rodriguez High School, Average Reading Score: 73.29\n"
     ]
    }
   ],
   "source": [
    "# Calculate the overall passing rate\n",
    "\n",
    "query = \"\"\"\n",
    "SELECT (((((COUNT(CASE WHEN math_score >= 70 THEN 1 END) * 1.0) / (school.size))) +\n",
    "    ((COUNT(CASE WHEN reading_score >= 70 THEN 1 END) * 1.0) / (school.size))) / 2) * 100 AS Passing_Rate, school.school_name, (school.type) as school_type,\n",
    "    CASE\n",
    "        WHEN (school.type) = 'District' THEN 'District'\n",
    "        WHEN (school.type) = 'Charter' THEN 'Charter'\n",
    "        ELSE 'Custom'       \n",
    "    END AS school_category\n",
    "FROM school\n",
    "JOIN student ON student.school_name = school.school_name\n",
    "GROUP BY school_category, school.school_name, school.type\n",
    "ORDER BY school_category \n",
    "\"\"\"\n",
    "school_type = con.execute(query).fetchall()\n",
    "\n",
    "for row in school_type:\n",
    "    print(f'School Category: {row[3]}, School: {row[1]}, Average Reading Score: {row[0]:.2f}')\n"
   ]
  },
  {
   "cell_type": "code",
   "execution_count": null,
   "metadata": {},
   "outputs": [],
   "source": []
  }
 ],
 "metadata": {
  "anaconda-cloud": {},
  "kernel_info": {
   "name": "python3"
  },
  "kernelspec": {
   "display_name": "Python 3 (ipykernel)",
   "language": "python",
   "name": "python3"
  },
  "language_info": {
   "codemirror_mode": {
    "name": "ipython",
    "version": 3
   },
   "file_extension": ".py",
   "mimetype": "text/x-python",
   "name": "python",
   "nbconvert_exporter": "python",
   "pygments_lexer": "ipython3",
   "version": "3.12.4"
  },
  "latex_envs": {
   "LaTeX_envs_menu_present": true,
   "autoclose": false,
   "autocomplete": true,
   "bibliofile": "biblio.bib",
   "cite_by": "apalike",
   "current_citInitial": 1,
   "eqLabelWithNumbers": true,
   "eqNumInitial": 1,
   "hotkeys": {
    "equation": "Ctrl-E",
    "itemize": "Ctrl-I"
   },
   "labels_anchors": false,
   "latex_user_defs": false,
   "report_style_numbering": false,
   "user_envs_cfg": false
  },
  "nteract": {
   "version": "0.8.4"
  },
  "toc": {
   "base_numbering": 1,
   "nav_menu": {},
   "number_sections": true,
   "sideBar": true,
   "skip_h1_title": false,
   "title_cell": "Table of Contents",
   "title_sidebar": "Contents",
   "toc_cell": false,
   "toc_position": {},
   "toc_section_display": true,
   "toc_window_display": false
  }
 },
 "nbformat": 4,
 "nbformat_minor": 4
}
