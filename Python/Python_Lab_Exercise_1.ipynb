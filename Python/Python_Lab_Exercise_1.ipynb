{
 "cells": [
  {
   "cell_type": "markdown",
   "metadata": {
    "hide_input": true
   },
   "source": [
    "# Python Lab Exercise #1\n",
    "\n",
    "## Learning Objectives\n",
    "\n",
    "The purpose of this notebook is for you to review some of the Python covered in the lecture, including the following: \n",
    "\n",
    "- Assigning variables\n",
    "- Classifying and explaining data types (integers, floats, strings, booleans, lists, dictionaries, and tuples)\n",
    "- Identifying comparators and boolean operators to create conditional code\n",
    "- Making use of lists: indexing, appending, and joining them\n",
    "- Making use of dictionaries: identifying, creating, and navigating them\n",
    "- Moving between lists and dictionaries (zipping lists together to make dictionaries, or pulling relevant data from a dictionary into a list)\n",
    "- Applying for loops to lists and dictionaries\n",
    "\n",
    "Some new things we're bringing up that weren't covered in class:\n",
    "\n",
    "- Using f-strings or `.format()` to print readable code with variables\n",
    "- Using `.zip()` to combine two lists into a dictionary"
   ]
  },
  {
   "cell_type": "markdown",
   "metadata": {},
   "source": [
    "## To do all that, we are going to code up versions of a bento box:\n",
    "\n",
    "![bento box image](https://images.pexels.com/photos/884596/pexels-photo-884596.jpeg?auto=compress&cs=tinysrgb&dpr=2&h=750&w=1260)\n",
    "\n",
    "### Bento boxes can have multiple ingredients and choices\n",
    "\n",
    "By the end, we want to combine multiple bento orders into one data collection, and print each item for the restaurant. \n",
    "\n",
    "### Variable assignment \n",
    "\n",
    "Let's start with our first bento order:"
   ]
  },
  {
   "cell_type": "code",
   "execution_count": 692,
   "metadata": {},
   "outputs": [],
   "source": [
    "# Run this cell without changes\n",
    "main = \"rice\"\n",
    "protein = \"salmon\"\n",
    "oz_of_protein = 4.5\n",
    "number_of_sides = 3\n",
    "side1 = 'seaweed'\n",
    "side2 = 'onigiri'\n",
    "side3 = 'turnip pickle'\n",
    "great_bento = True"
   ]
  },
  {
   "cell_type": "markdown",
   "metadata": {},
   "source": [
    "Now, if we wanted to change our protein to ginger chicken, how would we do that?"
   ]
  },
  {
   "cell_type": "code",
   "execution_count": 694,
   "metadata": {},
   "outputs": [],
   "source": [
    "# Code here to change protein\n",
    "protein = \"ginger chicken\"\n"
   ]
  },
  {
   "cell_type": "markdown",
   "metadata": {},
   "source": [
    "And changing the amount of protein to 3.5?"
   ]
  },
  {
   "cell_type": "code",
   "execution_count": 696,
   "metadata": {},
   "outputs": [],
   "source": [
    "# Code here to change oz_of_protein\n",
    "oz_of_protein = 3.5"
   ]
  },
  {
   "cell_type": "markdown",
   "metadata": {},
   "source": [
    "We can reassign variable values easily.\n",
    "\n",
    "Now, we assigned those variables one at a time. We also can assign multiple values at once:\n",
    "\n",
    "`side1, side2, side3 = \"carrots\", \"kimchi\", \"mushrooms\"`\n",
    "\n",
    "Update your side order to match your preferences - add whatever you want! "
   ]
  },
  {
   "cell_type": "code",
   "execution_count": 698,
   "metadata": {},
   "outputs": [],
   "source": [
    "# Code here to change sides \n",
    "\n",
    "side1, side2, side3 = \"Miso Soup\", \"tempura vegetables\", \"salad\""
   ]
  },
  {
   "cell_type": "markdown",
   "metadata": {},
   "source": [
    "Then use `print()` to confirm the variables changed."
   ]
  },
  {
   "cell_type": "code",
   "execution_count": 700,
   "metadata": {},
   "outputs": [
    {
     "name": "stdout",
     "output_type": "stream",
     "text": [
      "Miso Soup tempura vegetables salad\n"
     ]
    }
   ],
   "source": [
    "# Code here to confirm your changes\n",
    "print(side1, side2, side3) "
   ]
  },
  {
   "cell_type": "markdown",
   "metadata": {},
   "source": [
    "### Variable Types\n",
    "\n",
    "Each variable in our bento box has a `type`. "
   ]
  },
  {
   "cell_type": "code",
   "execution_count": 702,
   "metadata": {
    "hide_input": false
   },
   "outputs": [
    {
     "data": {
      "text/plain": [
       "str"
      ]
     },
     "execution_count": 702,
     "metadata": {},
     "output_type": "execute_result"
    }
   ],
   "source": [
    "# Run this cell without changes\n",
    "type(side1)"
   ]
  },
  {
   "cell_type": "markdown",
   "metadata": {},
   "source": [
    "Run `type()` on some of the remaining variables to explore the type options."
   ]
  },
  {
   "cell_type": "code",
   "execution_count": 704,
   "metadata": {},
   "outputs": [
    {
     "data": {
      "text/plain": [
       "{str: 'ginger chicken', float: 3.5}"
      ]
     },
     "execution_count": 704,
     "metadata": {},
     "output_type": "execute_result"
    }
   ],
   "source": [
    "# Code here to check other variable types\n",
    "{type(main):main, type(protein):protein, type(oz_of_protein):oz_of_protein}"
   ]
  },
  {
   "cell_type": "markdown",
   "metadata": {},
   "source": [
    "Each data type in Python has a set behavior in a lot of ways, and knowing what type your variable is can help you know exactly what you can do with it!"
   ]
  },
  {
   "cell_type": "markdown",
   "metadata": {},
   "source": [
    "### Control Flow Operators, If Statements and Conditionals\n",
    "\n",
    "Now what if you have food allergies, or want to be able to evaluate a variable before changing it for any other reason?\n",
    "\n",
    "Well you're in luck, cause we have control flow operators and if statements and conditionals!\n",
    "\n",
    "Control flow operators include:\n",
    "\n",
    "```python\n",
    "== # Is equal to?\n",
    "!= # Is not equal to? \n",
    ">  # Is greater than?\n",
    "<  # Is less than?\n",
    "<= # Is less than or equal to?\n",
    ">= # Is greater than or equal to?\n",
    "```\n",
    "\n",
    "Note that these evaluate something - this is different from setting a variable. With control flow operators like these, you're asking a question: \"Is this equal to that?\" \"Is this greater than that?\" etc!"
   ]
  },
  {
   "cell_type": "markdown",
   "metadata": {},
   "source": [
    "Decision making using these kinds of evaluators/control flow operators works like this:\n",
    "\n",
    "![how conditional works](./image/decision_making.jpg)\n",
    "\n",
    "The [tools](https://docs.python.org/3/tutorial/controlflow.html) used in conditionals are `if`, `elif`, and `else`.\n",
    "\n",
    "For example: \n",
    "\n",
    "```python\n",
    "if (protein == 'salmon'):\n",
    "      print(\"I love salmon!\")\n",
    "```\n",
    "\n",
    "Will I like this bento box?"
   ]
  },
  {
   "cell_type": "code",
   "execution_count": 708,
   "metadata": {},
   "outputs": [
    {
     "name": "stdout",
     "output_type": "stream",
     "text": [
      "no carbs, please!\n"
     ]
    }
   ],
   "source": [
    "# Run this cell without changes\n",
    "if (main == 'rice'):\n",
    "    print(\"no carbs, please!\")\n",
    "elif(oz_of_protein >= 2.5):\n",
    "    print(\"too much!\")\n",
    "else:\n",
    "    print(\"I will like this bento box!\")"
   ]
  },
  {
   "cell_type": "markdown",
   "metadata": {},
   "source": [
    "Above, if the main isn't rice and if the amount of protein is less than 2.5, I think I'll like the box!\n",
    "\n",
    "Update the above code example, but rather than `print`, instead set `great_bento` equal to `True` or `False` depending on the values of the bento box ingredients - feel free to customize the checks based on your own personal preferences!"
   ]
  },
  {
   "cell_type": "code",
   "execution_count": 710,
   "metadata": {},
   "outputs": [
    {
     "name": "stdout",
     "output_type": "stream",
     "text": [
      "I love ginger chicken!\n"
     ]
    }
   ],
   "source": [
    "# Update the code below, based on your own preferences\n",
    "if (protein == 'ginger chicken'):\n",
    "    print(\"I love ginger chicken!\")\n",
    "elif(oz_of_protein <= 5.0):\n",
    "    print(\"I think I will need more than this\")\n",
    "else:\n",
    "    print(\"I will not like this bento box!\")"
   ]
  },
  {
   "cell_type": "code",
   "execution_count": 711,
   "metadata": {},
   "outputs": [],
   "source": [
    "# Is great_bento True or False right now?\n"
   ]
  },
  {
   "cell_type": "markdown",
   "metadata": {},
   "source": [
    "## Using Lists: indexing, appending, joining"
   ]
  },
  {
   "cell_type": "markdown",
   "metadata": {},
   "source": [
    "![dog-to-do-list gif from giphy](https://media.giphy.com/media/xTiTnuhyBF54B852nK/giphy.gif)\n",
    "\n",
    "Writing out all those ingredients individually is a pain, let's put them in a list!\n",
    "\n",
    "(You can retype your ingredient list, or use the variables you assigned above)"
   ]
  },
  {
   "cell_type": "code",
   "execution_count": 714,
   "metadata": {},
   "outputs": [],
   "source": [
    "# Replace None with relevant code\n",
    "bento_ingredients = [main, protein, oz_of_protein, number_of_sides, side1, side2, side3]\n",
    "x = bento_ingredients"
   ]
  },
  {
   "cell_type": "markdown",
   "metadata": {},
   "source": [
    "Lists are ordered, meaning you can access the index number for an element:"
   ]
  },
  {
   "cell_type": "code",
   "execution_count": 716,
   "metadata": {
    "scrolled": true
   },
   "outputs": [
    {
     "data": {
      "text/plain": [
       "'Miso Soup'"
      ]
     },
     "execution_count": 716,
     "metadata": {},
     "output_type": "execute_result"
    }
   ],
   "source": [
    "# Run this cell without changes\n",
    "x[4]"
   ]
  },
  {
   "cell_type": "markdown",
   "metadata": {},
   "source": [
    "Or you can grab ranges/slices of a list:"
   ]
  },
  {
   "cell_type": "code",
   "execution_count": 718,
   "metadata": {},
   "outputs": [
    {
     "data": {
      "text/plain": [
       "[3.5, 3, 'Miso Soup']"
      ]
     },
     "execution_count": 718,
     "metadata": {},
     "output_type": "execute_result"
    }
   ],
   "source": [
    "# Run this cell without changes\n",
    "# Note that our 3rd side is the 4th element above, but we use 5 in the range\n",
    "# Play around with these numbers, and start to build some understanding of \n",
    "# which elements are where exactly in the list\n",
    "x[2:5]"
   ]
  },
  {
   "cell_type": "markdown",
   "metadata": {},
   "source": [
    "Add items to a list with `.append()` - add something else you like to your order!"
   ]
  },
  {
   "cell_type": "code",
   "execution_count": 720,
   "metadata": {},
   "outputs": [],
   "source": [
    "# Code here to add to your list\n",
    "y = \"chicken katsu\"\n",
    "x.append(y)"
   ]
  },
  {
   "cell_type": "markdown",
   "metadata": {},
   "source": [
    "If you don't want to keep that last item, you can use `.pop()` to remove it."
   ]
  },
  {
   "cell_type": "code",
   "execution_count": 722,
   "metadata": {},
   "outputs": [
    {
     "data": {
      "text/plain": [
       "'chicken katsu'"
      ]
     },
     "execution_count": 722,
     "metadata": {},
     "output_type": "execute_result"
    }
   ],
   "source": [
    "# Code here to test that out\n",
    "x.pop(7)"
   ]
  },
  {
   "cell_type": "code",
   "execution_count": 723,
   "metadata": {},
   "outputs": [
    {
     "name": "stdout",
     "output_type": "stream",
     "text": [
      "['rice', 'ginger chicken', 3.5, 3, 'Miso Soup', 'tempura vegetables', 'salad']\n"
     ]
    }
   ],
   "source": [
    "# Now check what your list looks like - is that last item still there?\n",
    "print(x)"
   ]
  },
  {
   "cell_type": "markdown",
   "metadata": {},
   "source": [
    "Now, let's put our bento box in a readable format using `join`:"
   ]
  },
  {
   "cell_type": "code",
   "execution_count": 725,
   "metadata": {},
   "outputs": [
    {
     "name": "stdout",
     "output_type": "stream",
     "text": [
      "I'd like my bento box to contain: rice, ginger chicken, 3.5, 3, Miso Soup, tempura vegetables, and salad\n"
     ]
    }
   ],
   "source": [
    "# Run this cell without changes\n",
    "x_string = [str(item) for item in x]\n",
    "print(\"I'd like my bento box to contain: \" +\n",
    "      \", \".join(x_string[:-1]) + \", and \" + x_string[-1])"
   ]
  },
  {
   "cell_type": "markdown",
   "metadata": {},
   "source": [
    "**New thing!** F-strings allow you to easily format strings to add variables or elements from an iterable (like a list). You can also use `.format()` in a similar way."
   ]
  },
  {
   "cell_type": "code",
   "execution_count": 727,
   "metadata": {},
   "outputs": [
    {
     "name": "stdout",
     "output_type": "stream",
     "text": [
      "My bento box will include rice and ginger chicken.\n"
     ]
    }
   ],
   "source": [
    "# Run this cell without changes\n",
    "print(f\"My bento box will include {x[0]} and {x[1]}.\")"
   ]
  },
  {
   "cell_type": "code",
   "execution_count": 728,
   "metadata": {},
   "outputs": [
    {
     "name": "stdout",
     "output_type": "stream",
     "text": [
      "My bento box will include rice and ginger chicken.\n"
     ]
    }
   ],
   "source": [
    "# The above cell is the same as:\n",
    "print(\"My bento box will include {} and {}.\".format(x[0], x[1]))"
   ]
  },
  {
   "cell_type": "markdown",
   "metadata": {},
   "source": [
    "**Think about it:** How is the f-string/format working differently from the join we did before?\n",
    "\n",
    "- \n"
   ]
  },
  {
   "cell_type": "markdown",
   "metadata": {},
   "source": [
    "## Using Dictionaries: Identifying, Creating, Navigating"
   ]
  },
  {
   "cell_type": "markdown",
   "metadata": {},
   "source": [
    "![dictionary](https://images.pexels.com/photos/270233/pexels-photo-270233.jpeg?auto=compress&cs=tinysrgb&dpr=2&w=500)\n",
    "\n",
    "No, not that kind! \n",
    "\n",
    "With your list above, someone would need to tell you that \"rice\" is the main and \"salmon\" is the protein. \n",
    "\n",
    "Dictionaries let you assign **key** and **value** pairs, which connects a key like \"main\" to a value like \"rice\". Rather than using **indexing**, you use **keys** to return values.\n",
    "\n",
    "Update your bento box to be a dictionary. There are multiple ways to do this! You can type all of your details out, matching to the information we have from the very beginning of this notebook, or you can use your list and a new list of keys to zip your bento box together.\n",
    "\n",
    "Make sure to run `type()` on your dictionary to confirm it is successful."
   ]
  },
  {
   "cell_type": "code",
   "execution_count": 732,
   "metadata": {
    "scrolled": true
   },
   "outputs": [
    {
     "name": "stdout",
     "output_type": "stream",
     "text": [
      "{'ingredient1': 'rice', 'ingredient2': 'tempura', 'ingredient3': 'miso soup'}\n",
      "<class 'dict'>\n"
     ]
    }
   ],
   "source": [
    "# Here's an example of zipping two lists together to form a dictionary\n",
    "bento_keys = [\"ingredient1\", \"ingredient2\", \"ingredient3\"]\n",
    "bento_values = [\"rice\", \"tempura\", \"miso soup\"]\n",
    "\n",
    "bento_dict = dict(zip(bento_keys, bento_values))\n",
    "\n",
    "print(bento_dict)\n",
    "print(type(bento_dict))"
   ]
  },
  {
   "cell_type": "code",
   "execution_count": 733,
   "metadata": {},
   "outputs": [],
   "source": [
    "# Code here to create a dictionary from your bento ingredients\n",
    "# Change things up to whatever you like!\n",
    "bento_keys = [\"main\", \"protein\", \"side1\", \"side2\", \"side3\", \"y\"]\n",
    "bento_values = [\"rice\", \"ginger chicken\", \"Miso Soup\", \"tempura vegetables\", \"salad\", \"chicken katsu\"]\n",
    "bk = bento_keys\n",
    "bv = bento_values\n"
   ]
  },
  {
   "cell_type": "code",
   "execution_count": 734,
   "metadata": {},
   "outputs": [
    {
     "name": "stdout",
     "output_type": "stream",
     "text": [
      "{'main': 'rice', 'protein': 'ginger chicken', 'oz_of_protein': 3.5, 'number_of_sides': 3, 'side1': 'Miso Soup', 'side2': 'tempura vegetables', 'side3': 'salad', 'y': 'chicken katsu'}\n",
      "<class 'dict'>\n"
     ]
    }
   ],
   "source": [
    "# Code here to check your work - check type, and print your dictionary\n",
    "\n",
    "bento_dict = dict(zip(bk,bv))\n",
    "R = bento_dict\n",
    "\n",
    "print(bd)\n",
    "print(type(bd))\n"
   ]
  },
  {
   "cell_type": "markdown",
   "metadata": {},
   "source": [
    "You use the key of the dictionary to access its value, for example `bento_box['main']` "
   ]
  },
  {
   "cell_type": "code",
   "execution_count": 736,
   "metadata": {},
   "outputs": [
    {
     "data": {
      "text/plain": [
       "['ginger chicken']"
      ]
     },
     "execution_count": 736,
     "metadata": {},
     "output_type": "execute_result"
    }
   ],
   "source": [
    "# Practice accessing elements in your bento box\n",
    "[protein]\n"
   ]
  },
  {
   "cell_type": "markdown",
   "metadata": {},
   "source": [
    "Let's say we want to combine EVERYONE'S bento dictionaries - we can nest those dictonaries inside of a list!\n",
    "\n",
    "Let's get a few different bento box orders into a group order - use Slack to send your dictionaries to each other (you'll want to send everyone the dictionary output, not the code you wrote if you used zip to create your dictionary). \n",
    "\n",
    "**Tip:** make sure each of the dictionaries are structured the same, with the same key names for what is in the bento boxes (as in, make sure you each have a main, a protein, and the same number of sides) - for this exercise, it'll make your life easier later on! \n",
    "\n",
    "Grab at least two other orders and create a list of different dictionaries:"
   ]
  },
  {
   "cell_type": "code",
   "execution_count": 738,
   "metadata": {},
   "outputs": [],
   "source": [
    "# Code here to combine your group order\n",
    "L = {'main': 'rice',\n",
    " 'protein': 'ginger chicken',\n",
    " 'side1': 'carrots',\n",
    " 'side2': 'peas',\n",
    " 'side3': 'garlic mushrooms'}\n",
    "V = {'main': 'rice',\n",
    " 'protein': 'shrimp',\n",
    " 'side1': 'imitation crab',\n",
    " 'side2': 'sesame seeds',\n",
    " 'side3': 'seaweed'}\n",
    "S = {\n",
    "    'main': 'rice',\n",
    "    'protein': 'ginger chicken',\n",
    "    'side1': 'carrots',\n",
    "    'side2': 'pickles',\n",
    "    'side3': 'avocado'\n",
    "}\n",
    "\n"
   ]
  },
  {
   "cell_type": "code",
   "execution_count": 739,
   "metadata": {},
   "outputs": [
    {
     "name": "stdout",
     "output_type": "stream",
     "text": [
      "{'main': 'rice', 'protein': 'ginger chicken', 'side1': 'carrots', 'side2': 'peas', 'side3': 'garlic mushrooms'} {'main': 'rice', 'protein': 'shrimp', 'side1': 'imitation crab', 'side2': 'sesame seeds', 'side3': 'seaweed'} {'main': 'rice', 'protein': 'ginger chicken', 'side1': 'carrots', 'side2': 'pickles', 'side3': 'avocado'}\n"
     ]
    }
   ],
   "source": [
    "# Code here to check your work\n",
    "print(L,V,S)"
   ]
  },
  {
   "cell_type": "markdown",
   "metadata": {},
   "source": [
    "But what if we also want to keep track of whose order is whose? Instead of doing a list of dictionaries, we can do a nested dictionary of dictionaries! \n",
    "\n",
    "![Dictionaries inside dictionaries](https://i.imgflip.com/3orgly.jpg)\n",
    "\n",
    "Create a dictionary of dictionaries, where the key is the name of the person ordering and the value is their bento dictionary:"
   ]
  },
  {
   "cell_type": "code",
   "execution_count": 834,
   "metadata": {},
   "outputs": [
    {
     "data": {
      "text/plain": [
       "dict"
      ]
     },
     "execution_count": 834,
     "metadata": {},
     "output_type": "execute_result"
    }
   ],
   "source": [
    "# Code here to create your nested dictionaries\n",
    "DoD = { \n",
    "    'Reese':{'name':'Reese', 'main':'rice', 'protein':'Ginger Chicken', 'side1':'Miso Soup', 'side2':'Tempura Vegetables', 'side3':'Salad'},\n",
    "    'Leslie':{'name':'Leslie', 'main':'rice', 'protein':'Ginger Chicken', 'side1':'Carrots', 'side2':'Peas', 'side3':'Garlic Mushrooms'},\n",
    "    'Vinh':{'name':'Vinh', 'main':'rice', 'protein':'Shrimp', 'side1':'Imitation Crab', 'side2':'Sesame Seeds', 'side3':'Seaweed'},\n",
    "    'Sara':{'name':'Sara', 'main':'rice', 'protein':'ginger chicken', 'side1':'Carrots', 'side2':'Pickles', 'side3':'Avocado'}}\n",
    "type(DoD)"
   ]
  },
  {
   "cell_type": "code",
   "execution_count": 836,
   "metadata": {},
   "outputs": [
    {
     "name": "stdout",
     "output_type": "stream",
     "text": [
      "{'Reese': {'name': 'Reese', 'main': 'rice', 'protein': 'Ginger Chicken', 'side1': 'Miso Soup', 'side2': 'Tempura Vegetables', 'side3': 'Salad'}, 'Leslie': {'name': 'Leslie', 'main': 'rice', 'protein': 'Ginger Chicken', 'side1': 'Carrots', 'side2': 'Peas', 'side3': 'Garlic Mushrooms'}, 'Vinh': {'name': 'Vinh', 'main': 'rice', 'protein': 'Shrimp', 'side1': 'Imitation Crab', 'side2': 'Sesame Seeds', 'side3': 'Seaweed'}, 'Sara': {'name': 'Sara', 'main': 'rice', 'protein': 'ginger chicken', 'side1': 'Carrots', 'side2': 'Pickles', 'side3': 'Avocado'}}\n"
     ]
    }
   ],
   "source": [
    "# Check your work\n",
    "print(DoD)"
   ]
  },
  {
   "cell_type": "markdown",
   "metadata": {},
   "source": [
    "Now, if we wanted a list of people who ordered bento boxes, we could grab a list of those names by using `.keys()`"
   ]
  },
  {
   "cell_type": "code",
   "execution_count": 838,
   "metadata": {},
   "outputs": [
    {
     "data": {
      "text/plain": [
       "dict_keys(['Reese', 'Leslie', 'Vinh', 'Sara'])"
      ]
     },
     "execution_count": 838,
     "metadata": {},
     "output_type": "execute_result"
    }
   ],
   "source": [
    "# Code here to grab a list of who you have orders for\n",
    "DoD.keys()"
   ]
  },
  {
   "cell_type": "code",
   "execution_count": 840,
   "metadata": {
    "scrolled": true
   },
   "outputs": [
    {
     "data": {
      "text/plain": [
       "dict_keys(['Reese', 'Leslie', 'Vinh', 'Sara'])"
      ]
     },
     "execution_count": 840,
     "metadata": {},
     "output_type": "execute_result"
    }
   ],
   "source": [
    "# Check your work\n",
    "DoD.keys()"
   ]
  },
  {
   "cell_type": "markdown",
   "metadata": {},
   "source": [
    "## For loops\n",
    "\n",
    "Okay, is anyone confused about for loops? Let's practice.\n",
    "\n",
    "Write a loop to print the main ingredient in everyone's bento order. \n",
    "\n",
    "(This is easier if everyone named an ingredient 'main' in their dictionary, but can be done even if that's not the case - it's just more complicated.)\n",
    "\n",
    "Remember! You have already defined a list of everyone's names from above! You can use that in your for loop if you like."
   ]
  },
  {
   "cell_type": "code",
   "execution_count": 842,
   "metadata": {},
   "outputs": [],
   "source": [
    "# Code here to write a for loop that prints each main\n",
    "for i in DoD:\n",
    "    if i == \"main\":\n",
    "        print(\"main\",i)"
   ]
  },
  {
   "cell_type": "markdown",
   "metadata": {},
   "source": [
    "### Bringing everything together!\n",
    "\n",
    "Now, using the names from the nested dictionaries, can we create a list of tuples with each name along with the protein they want? \n",
    "\n",
    "(Again, easier if everyone named an ingredient 'protein' in their dictionary...)\n",
    "\n",
    "([What even is a tuple?](http://openbookproject.net/thinkcs/python/english3e/tuples.html) It's hard to distinguish them from lists, except they use `()` instead of `[]`. The takeaway here is that tuples create a single immutable object when grouping data. If you're having trouble, try to use the linked resource to create your list of tuples below.)"
   ]
  },
  {
   "cell_type": "code",
   "execution_count": 850,
   "metadata": {},
   "outputs": [
    {
     "name": "stdout",
     "output_type": "stream",
     "text": [
      "[('Reese', 'ginger chicken'), ('Leslie', 'ginger chicken'), ('Vinh', 'shrimp'), ('Sara', 'ginger chicken')]\n"
     ]
    }
   ],
   "source": [
    "# Code here to create a list of tuples for each person and their protein\n",
    "tuple_list = [('Reese' ,'ginger chicken'), \n",
    "              ('Leslie', 'ginger chicken'), \n",
    "              ('Vinh', 'shrimp'), \n",
    "              ('Sara', 'ginger chicken')]\n",
    "tl = tuple_list\n",
    "\n",
    "print(tl)\n"
   ]
  },
  {
   "cell_type": "code",
   "execution_count": 819,
   "metadata": {},
   "outputs": [],
   "source": [
    "# Code here to check your work\n",
    "# Tuple list will look like [('person', 'protein'), ...]\n"
   ]
  },
  {
   "cell_type": "markdown",
   "metadata": {},
   "source": [
    "Now, print each of your orders as readable sentences. \n",
    "\n",
    "You can use `.join()` or f-strings or `.format()` - no wrong way to do it! You may even want to use nested for loops here!"
   ]
  },
  {
   "cell_type": "code",
   "execution_count": 848,
   "metadata": {},
   "outputs": [
    {
     "name": "stdout",
     "output_type": "stream",
     "text": [
      "Reese's Bento Box contains rice, Ginger Chicken, Miso Soup, Tempura Vegetables, Salad.\n",
      "Leslie's Bento Box contains rice, Ginger Chicken, Carrots, Peas, Garlic Mushrooms.\n",
      "Vinh's Bento Box contains rice, Shrimp, Imitation Crab, Sesame Seeds, Seaweed.\n",
      "Sara's Bento Box contains rice, ginger chicken, Carrots, Pickles, Avocado.\n"
     ]
    }
   ],
   "source": [
    "# Code here to print each order as a human-readable sentence\n",
    "for person, order in DoD.items():\n",
    "    print(\"{}'s Bento Box contains {}, {}, {}, {}, {}.\".format(order['name'],\n",
    "    order['main'],order['protein'],order['side1'],order['side2'],order['side3']))"
   ]
  },
  {
   "cell_type": "markdown",
   "metadata": {},
   "source": [
    "### Reflection:\n",
    "\n",
    "What's a situation where you could use lists and loops to automate a process?\n",
    "\n",
    "- \n"
   ]
  }
 ],
 "metadata": {
  "kernelspec": {
   "display_name": "Python 3 (ipykernel)",
   "language": "python",
   "name": "python3"
  },
  "language_info": {
   "codemirror_mode": {
    "name": "ipython",
    "version": 3
   },
   "file_extension": ".py",
   "mimetype": "text/x-python",
   "name": "python",
   "nbconvert_exporter": "python",
   "pygments_lexer": "ipython3",
   "version": "3.12.4"
  },
  "latex_envs": {
   "LaTeX_envs_menu_present": true,
   "autoclose": false,
   "autocomplete": true,
   "bibliofile": "biblio.bib",
   "cite_by": "apalike",
   "current_citInitial": 1,
   "eqLabelWithNumbers": true,
   "eqNumInitial": 1,
   "hotkeys": {
    "equation": "Ctrl-E",
    "itemize": "Ctrl-I"
   },
   "labels_anchors": false,
   "latex_user_defs": false,
   "report_style_numbering": false,
   "user_envs_cfg": false
  },
  "toc": {
   "base_numbering": 1,
   "nav_menu": {},
   "number_sections": true,
   "sideBar": true,
   "skip_h1_title": false,
   "title_cell": "Table of Contents",
   "title_sidebar": "Contents",
   "toc_cell": false,
   "toc_position": {},
   "toc_section_display": true,
   "toc_window_display": false
  }
 },
 "nbformat": 4,
 "nbformat_minor": 4
}
